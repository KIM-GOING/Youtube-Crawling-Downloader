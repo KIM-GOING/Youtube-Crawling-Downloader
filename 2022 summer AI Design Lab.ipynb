{
 "cells": [
  {
   "cell_type": "code",
   "execution_count": 47,
   "id": "1181baea",
   "metadata": {},
   "outputs": [],
   "source": [
    "import pandas as pd\n",
    "from selenium import webdriver\n",
    "from selenium.webdriver.common.keys import Keys\n",
    "from selenium.webdriver import ActionChains\n",
    "from pytube import YouTube\n",
    "from pydub import AudioSegment \n",
    "import os\n",
    "import time\n",
    "import warnings\n",
    "\n",
    "warnings.filterwarnings(action='ignore')"
   ]
  },
  {
   "cell_type": "code",
   "execution_count": 48,
   "id": "3147f591",
   "metadata": {},
   "outputs": [],
   "source": [
    "#유튜브 채널 크롬창 켜기\n",
    "youtube_channel_url = 'https://www.youtube.com/watch?v=QdLMx69XFnw&list=PLiQujxowuLQfRA6GY40aRP390b5l8j5MJ'\n",
    "wd = webdriver.Chrome('chromedriver.exe')\n",
    "action = ActionChains(wd)\n",
    "wd.get(youtube_channel_url)\n",
    "time.sleep(1)"
   ]
  },
  {
   "cell_type": "code",
   "execution_count": 49,
   "id": "aadcb357",
   "metadata": {},
   "outputs": [],
   "source": [
    "#크롬 전체화면\n",
    "wd.maximize_window()\n",
    "time.sleep(1)"
   ]
  },
  {
   "cell_type": "code",
   "execution_count": 4,
   "id": "913a0382",
   "metadata": {},
   "outputs": [],
   "source": [
    "#재생목록 탭 이동하기\n",
    "wd.find_element_by_xpath('//*[@id=\"tabsContent\"]/tp-yt-paper-tab[3]').click()\n",
    "time.sleep(1)"
   ]
  },
  {
   "cell_type": "code",
   "execution_count": 5,
   "id": "7c209807",
   "metadata": {},
   "outputs": [],
   "source": [
    "#재생목록 전체 보기\n",
    "wd.find_element_by_css_selector('span#title').click()\n",
    "time.sleep(1)"
   ]
  },
  {
   "cell_type": "code",
   "execution_count": 11,
   "id": "961af850",
   "metadata": {},
   "outputs": [],
   "source": [
    "#스크롤 내리기\n",
    "before_h = wd.execute_script('return window.scrollY')\n",
    "\n",
    "while True:\n",
    "    wd.find_element_by_css_selector(\"body\").send_keys(Keys.END)\n",
    "    time.sleep(1)\n",
    "    \n",
    "    after_h = wd.execute_script('return window.scrollY')\n",
    "    \n",
    "    if after_h == before_h:\n",
    "        break\n",
    "    \n",
    "    before_h = after_h"
   ]
  },
  {
   "cell_type": "code",
   "execution_count": 7,
   "id": "5150345b",
   "metadata": {},
   "outputs": [
    {
     "name": "stdout",
     "output_type": "stream",
     "text": [
      "벤 10 미니극장\n",
      "클라렌스는 엉뚱해!\n",
      "위 베이비 베어스\n",
      "램풋\n",
      "시냇가의 크레이그\n",
      "검볼\n",
      "극강 매직스워드 [미니 에피소드]\n",
      "OK K.O.! 내일은 히어로 [본편]\n",
      "카툰 스페셜\n",
      "파워퍼프걸 2016 [본편]\n",
      "엉클 그랜파 [본편]\n",
      "카툰 팬 메이드 영상\n",
      "카봇 시즌 3 모아보기\n",
      "카툰 Now\n",
      "어드벤처 타임 뮤직비디오\n",
      "믹셀\n",
      "투닉스\n",
      "극강 매직스워드 [스페셜]\n",
      "파워퍼프걸 2016\n",
      "벤 10\n",
      "엉클 그랜파\n"
     ]
    }
   ],
   "source": [
    "pause_list= wd.find_elements_by_css_selector('a#video-title')\n",
    "for i in pause_list:\n",
    "    print(i.text)"
   ]
  },
  {
   "cell_type": "code",
   "execution_count": 8,
   "id": "b1d5b918",
   "metadata": {},
   "outputs": [],
   "source": [
    "p_list = []\n",
    "for i in pause_list:\n",
    "    p_list.append(i.text)"
   ]
  },
  {
   "cell_type": "code",
   "execution_count": 9,
   "id": "7e73c5d4",
   "metadata": {},
   "outputs": [
    {
     "data": {
      "text/plain": [
       "['벤 10 미니극장',\n",
       " '클라렌스는 엉뚱해!',\n",
       " '위 베이비 베어스',\n",
       " '램풋',\n",
       " '시냇가의 크레이그',\n",
       " '검볼',\n",
       " '극강 매직스워드 [미니 에피소드]',\n",
       " 'OK K.O.! 내일은 히어로 [본편]',\n",
       " '카툰 스페셜',\n",
       " '파워퍼프걸 2016 [본편]',\n",
       " '엉클 그랜파 [본편]',\n",
       " '카툰 팬 메이드 영상',\n",
       " '카봇 시즌 3 모아보기',\n",
       " '카툰 Now',\n",
       " '어드벤처 타임 뮤직비디오',\n",
       " '믹셀',\n",
       " '투닉스',\n",
       " '극강 매직스워드 [스페셜]',\n",
       " '파워퍼프걸 2016',\n",
       " '벤 10',\n",
       " '엉클 그랜파']"
      ]
     },
     "execution_count": 9,
     "metadata": {},
     "output_type": "execute_result"
    }
   ],
   "source": [
    "p_list"
   ]
  },
  {
   "cell_type": "code",
   "execution_count": null,
   "id": "03c80ca5",
   "metadata": {},
   "outputs": [],
   "source": []
  },
  {
   "cell_type": "markdown",
   "id": "2c67db68",
   "metadata": {},
   "source": [
    "<h1>재생목록 하나씩 접근하는 매커니즘</h1>"
   ]
  },
  {
   "cell_type": "code",
   "execution_count": 23,
   "id": "e1b8dbde",
   "metadata": {},
   "outputs": [
    {
     "name": "stdout",
     "output_type": "stream",
     "text": [
      "클라렌스는 엉뚱해!\n",
      "위 베이비 베어스\n",
      "램풋\n",
      "시냇가의 크레이그\n",
      "검볼\n",
      "극강 매직스워드 [미니 에피소드]\n",
      "OK K.O.! 내일은 히어로 [본편]\n",
      "카툰 스페셜\n",
      "파워퍼프걸 2016 [본편]\n",
      "엉클 그랜파 [본편]\n",
      "카툰 팬 메이드 영상\n",
      "카봇 시즌 3 모아보기\n",
      "카툰 Now\n",
      "어드벤처 타임 뮤직비디오\n",
      "믹셀\n",
      "투닉스\n",
      "극강 매직스워드 [스페셜]\n",
      "파워퍼프걸 2016\n",
      "벤 10\n",
      "엉클 그랜파\n"
     ]
    }
   ],
   "source": [
    "#재생목록 하나씩 접근\n",
    "for i in wd.find_elements_by_css_selector('a#video-title'):\n",
    "    action.move_to_element(i).perform()\n",
    "    time.sleep(1)\n",
    "    print(i.text)\n",
    "    i.click()\n",
    "    time.sleep(2)\n",
    "    \n",
    "    #재생목록 들어가서 영상 링크 저장하기 매커니즘 추가\n",
    "    \n",
    "    wd.back()\n",
    "    time.sleep(2)\n",
    "    \n",
    "    try :\n",
    "        action.move_to_element(wd.find_element_by_css_selector('div.ytp-miniplayer-scrim')).perform()\n",
    "        wd.find_element_by_xpath('//*[@id=\"movie_player\"]/div[16]/div/button[1]').click()\n",
    "        time.sleep(1)\n",
    "    except:\n",
    "        wd.find_element_by_css_selector('yt-icon#close-icon').click()\n",
    "        time.sleep(1)\n",
    "    \n",
    "    before_h = wd.execute_script('return window.scrollY')\n",
    "\n",
    "    while True:\n",
    "        wd.find_element_by_css_selector(\"body\").send_keys(Keys.END)\n",
    "        time.sleep(1)\n",
    "\n",
    "        after_h = wd.execute_script('return window.scrollY')\n",
    "\n",
    "        if after_h == before_h:\n",
    "            break\n",
    "\n",
    "        before_h = after_h"
   ]
  },
  {
   "cell_type": "code",
   "execution_count": null,
   "id": "d3ee4cdd",
   "metadata": {},
   "outputs": [],
   "source": []
  },
  {
   "cell_type": "markdown",
   "id": "f80f3ab5",
   "metadata": {},
   "source": [
    "<h1>하나의 재생목록에서 동영상 url 저장하기</h1>"
   ]
  },
  {
   "cell_type": "code",
   "execution_count": 50,
   "id": "a578e3d9",
   "metadata": {},
   "outputs": [],
   "source": [
    "video_url_list = {}"
   ]
  },
  {
   "cell_type": "code",
   "execution_count": 51,
   "id": "f8dc6299",
   "metadata": {},
   "outputs": [],
   "source": [
    "video_list = []"
   ]
  },
  {
   "cell_type": "code",
   "execution_count": 22,
   "id": "ec4f0bbe",
   "metadata": {},
   "outputs": [],
   "source": [
    "link = wd.find_elements_by_css_selector('a#video-title.yt-simple-endpoint.style-scope.ytd-grid-playlist-renderer')"
   ]
  },
  {
   "cell_type": "code",
   "execution_count": 8,
   "id": "f16d484e",
   "metadata": {},
   "outputs": [],
   "source": [
    "link[5].click()\n",
    "time.sleep(1)"
   ]
  },
  {
   "cell_type": "code",
   "execution_count": 52,
   "id": "47419a4d",
   "metadata": {},
   "outputs": [],
   "source": [
    "for j in wd.find_elements_by_css_selector('div#secondary-inner>ytd-playlist-panel-renderer#playlist>div#container>div#items>ytd-playlist-panel-video-renderer#playlist-items'):\n",
    "    action.move_to_element(j).perform()\n",
    "    time.sleep(1)\n",
    "    j.click()\n",
    "    time.sleep(2)\n",
    "    \n",
    "    video_url = wd.current_url\n",
    "    video_list.append(video_url)"
   ]
  },
  {
   "cell_type": "code",
   "execution_count": 7,
   "id": "8672f230",
   "metadata": {},
   "outputs": [],
   "source": [
    "#링크 하나만 할 때\n",
    "video_list.append('https://www.youtube.com/watch?v=_K9BaU2hlng&t=3205s')"
   ]
  },
  {
   "cell_type": "code",
   "execution_count": 53,
   "id": "6dab938c",
   "metadata": {},
   "outputs": [],
   "source": [
    "video_url_list['로보카폴리안전이야기'] = video_list"
   ]
  },
  {
   "cell_type": "code",
   "execution_count": 54,
   "id": "1043c9fe",
   "metadata": {},
   "outputs": [
    {
     "data": {
      "text/plain": [
       "{'로보카폴리안전이야기': ['https://www.youtube.com/watch?v=QdLMx69XFnw&list=PLiQujxowuLQfRA6GY40aRP390b5l8j5MJ&index=1',\n",
       "  'https://www.youtube.com/watch?v=jXK3F7cO5Zc&list=PLiQujxowuLQfRA6GY40aRP390b5l8j5MJ&index=2',\n",
       "  'https://www.youtube.com/watch?v=i_nTqpbpCRw&list=PLiQujxowuLQfRA6GY40aRP390b5l8j5MJ&index=3',\n",
       "  'https://www.youtube.com/watch?v=mmKUzc7DnuY&list=PLiQujxowuLQfRA6GY40aRP390b5l8j5MJ&index=4',\n",
       "  'https://www.youtube.com/watch?v=8QZU8KiPoos&list=PLiQujxowuLQfRA6GY40aRP390b5l8j5MJ&index=5',\n",
       "  'https://www.youtube.com/watch?v=CLn9fMjaH7E&list=PLiQujxowuLQfRA6GY40aRP390b5l8j5MJ&index=6',\n",
       "  'https://www.youtube.com/watch?v=1rbI7T5YqRw&list=PLiQujxowuLQfRA6GY40aRP390b5l8j5MJ&index=7',\n",
       "  'https://www.youtube.com/watch?v=xIv559MHkAE&list=PLiQujxowuLQfRA6GY40aRP390b5l8j5MJ&index=8',\n",
       "  'https://www.youtube.com/watch?v=2wRxL-ri6oc&list=PLiQujxowuLQfRA6GY40aRP390b5l8j5MJ&index=9',\n",
       "  'https://www.youtube.com/watch?v=rh2svPCC5t4&list=PLiQujxowuLQfRA6GY40aRP390b5l8j5MJ&index=10',\n",
       "  'https://www.youtube.com/watch?v=5Dn7LM9MQwk&list=PLiQujxowuLQfRA6GY40aRP390b5l8j5MJ&index=11',\n",
       "  'https://www.youtube.com/watch?v=BATwbA3LtrI&list=PLiQujxowuLQfRA6GY40aRP390b5l8j5MJ&index=12',\n",
       "  'https://www.youtube.com/watch?v=PZGpA6XqW8Y&list=PLiQujxowuLQfRA6GY40aRP390b5l8j5MJ&index=13',\n",
       "  'https://www.youtube.com/watch?v=MXPXuIgc4tA&list=PLiQujxowuLQfRA6GY40aRP390b5l8j5MJ&index=14',\n",
       "  'https://www.youtube.com/watch?v=mmkdmA867X0&list=PLiQujxowuLQfRA6GY40aRP390b5l8j5MJ&index=15',\n",
       "  'https://www.youtube.com/watch?v=kh_PTl3yw0Q&list=PLiQujxowuLQfRA6GY40aRP390b5l8j5MJ&index=16',\n",
       "  'https://www.youtube.com/watch?v=R1vZUsVIsIA&list=PLiQujxowuLQfRA6GY40aRP390b5l8j5MJ&index=17',\n",
       "  'https://www.youtube.com/watch?v=8K49A5gEGlc&list=PLiQujxowuLQfRA6GY40aRP390b5l8j5MJ&index=18',\n",
       "  'https://www.youtube.com/watch?v=c7K-LefNcVc&list=PLiQujxowuLQfRA6GY40aRP390b5l8j5MJ&index=19',\n",
       "  'https://www.youtube.com/watch?v=f5YAPqPVZJ4&list=PLiQujxowuLQfRA6GY40aRP390b5l8j5MJ&index=20',\n",
       "  'https://www.youtube.com/watch?v=IkJQzmrxTfA&list=PLiQujxowuLQfRA6GY40aRP390b5l8j5MJ&index=21',\n",
       "  'https://www.youtube.com/watch?v=BrMA0RSfRgs&list=PLiQujxowuLQfRA6GY40aRP390b5l8j5MJ&index=22',\n",
       "  'https://www.youtube.com/watch?v=Us8ZH1giZik&list=PLiQujxowuLQfRA6GY40aRP390b5l8j5MJ&index=23',\n",
       "  'https://www.youtube.com/watch?v=UfIdE7nJjaQ&list=PLiQujxowuLQfRA6GY40aRP390b5l8j5MJ&index=24',\n",
       "  'https://www.youtube.com/watch?v=2zhDv5nf7e0&list=PLiQujxowuLQfRA6GY40aRP390b5l8j5MJ&index=25',\n",
       "  'https://www.youtube.com/watch?v=8a_tfM_sPtk&list=PLiQujxowuLQfRA6GY40aRP390b5l8j5MJ&index=26',\n",
       "  'https://www.youtube.com/watch?v=vU-ILhkk7Ro&list=PLiQujxowuLQfRA6GY40aRP390b5l8j5MJ&index=27',\n",
       "  'https://www.youtube.com/watch?v=RgDkVlyUuF4&list=PLiQujxowuLQfRA6GY40aRP390b5l8j5MJ&index=28',\n",
       "  'https://www.youtube.com/watch?v=hIu64ZTSQ8o&list=PLiQujxowuLQfRA6GY40aRP390b5l8j5MJ&index=29',\n",
       "  'https://www.youtube.com/watch?v=alktLqajyFw&list=PLiQujxowuLQfRA6GY40aRP390b5l8j5MJ&index=30',\n",
       "  'https://www.youtube.com/watch?v=WbW4FS9zO7A&list=PLiQujxowuLQfRA6GY40aRP390b5l8j5MJ&index=31',\n",
       "  'https://www.youtube.com/watch?v=sjqGlTBPWj0&list=PLiQujxowuLQfRA6GY40aRP390b5l8j5MJ&index=32',\n",
       "  'https://www.youtube.com/watch?v=gfSSa9vFrwk&list=PLiQujxowuLQfRA6GY40aRP390b5l8j5MJ&index=33',\n",
       "  'https://www.youtube.com/watch?v=YxzGzED29GM&list=PLiQujxowuLQfRA6GY40aRP390b5l8j5MJ&index=34',\n",
       "  'https://www.youtube.com/watch?v=k82kuSGbUcU&list=PLiQujxowuLQfRA6GY40aRP390b5l8j5MJ&index=35',\n",
       "  'https://www.youtube.com/watch?v=vhKZiFX6NPM&list=PLiQujxowuLQfRA6GY40aRP390b5l8j5MJ&index=36',\n",
       "  'https://www.youtube.com/watch?v=Q0lrOofxhOw&list=PLiQujxowuLQfRA6GY40aRP390b5l8j5MJ&index=37',\n",
       "  'https://www.youtube.com/watch?v=_Ro_PDfpNNQ&list=PLiQujxowuLQfRA6GY40aRP390b5l8j5MJ&index=38',\n",
       "  'https://www.youtube.com/watch?v=If8-AkUh4QY&list=PLiQujxowuLQfRA6GY40aRP390b5l8j5MJ&index=39',\n",
       "  'https://www.youtube.com/watch?v=fjZIA_m3zvc&list=PLiQujxowuLQfRA6GY40aRP390b5l8j5MJ&index=40',\n",
       "  'https://www.youtube.com/watch?v=63ee8DbrhCY&list=PLiQujxowuLQfRA6GY40aRP390b5l8j5MJ&index=41',\n",
       "  'https://www.youtube.com/watch?v=5_aszfDOZDs&list=PLiQujxowuLQfRA6GY40aRP390b5l8j5MJ&index=42',\n",
       "  'https://www.youtube.com/watch?v=_kDveGJHKtM&list=PLiQujxowuLQfRA6GY40aRP390b5l8j5MJ&index=43',\n",
       "  'https://www.youtube.com/watch?v=eDulfSoJYI0&list=PLiQujxowuLQfRA6GY40aRP390b5l8j5MJ&index=44',\n",
       "  'https://www.youtube.com/watch?v=CN580e-Z3B0&list=PLiQujxowuLQfRA6GY40aRP390b5l8j5MJ&index=45',\n",
       "  'https://www.youtube.com/watch?v=N_W8grLA81o&list=PLiQujxowuLQfRA6GY40aRP390b5l8j5MJ&index=46',\n",
       "  'https://www.youtube.com/watch?v=BQCujETChXI&list=PLiQujxowuLQfRA6GY40aRP390b5l8j5MJ&index=47',\n",
       "  'https://www.youtube.com/watch?v=2Iogzboftd0&list=PLiQujxowuLQfRA6GY40aRP390b5l8j5MJ&index=48',\n",
       "  'https://www.youtube.com/watch?v=PivKH4HD-ak&list=PLiQujxowuLQfRA6GY40aRP390b5l8j5MJ&index=49',\n",
       "  'https://www.youtube.com/watch?v=rFsptyMBhBg&list=PLiQujxowuLQfRA6GY40aRP390b5l8j5MJ&index=50',\n",
       "  'https://www.youtube.com/watch?v=OfkRtg4UYK4&list=PLiQujxowuLQfRA6GY40aRP390b5l8j5MJ&index=51',\n",
       "  'https://www.youtube.com/watch?v=ec01ygc5-qk&list=PLiQujxowuLQfRA6GY40aRP390b5l8j5MJ&index=52',\n",
       "  'https://www.youtube.com/watch?v=K5s7J-3EyV0&list=PLiQujxowuLQfRA6GY40aRP390b5l8j5MJ&index=53',\n",
       "  'https://www.youtube.com/watch?v=MxDJGR5VGiE&list=PLiQujxowuLQfRA6GY40aRP390b5l8j5MJ&index=54',\n",
       "  'https://www.youtube.com/watch?v=lcVSBS8M9GQ&list=PLiQujxowuLQfRA6GY40aRP390b5l8j5MJ&index=55',\n",
       "  'https://www.youtube.com/watch?v=Vdp-RvD0dw8&list=PLiQujxowuLQfRA6GY40aRP390b5l8j5MJ&index=56',\n",
       "  'https://www.youtube.com/watch?v=K5axqk9VTug&list=PLiQujxowuLQfRA6GY40aRP390b5l8j5MJ&index=57',\n",
       "  'https://www.youtube.com/watch?v=ZPL41-mmxKc&list=PLiQujxowuLQfRA6GY40aRP390b5l8j5MJ&index=58',\n",
       "  'https://www.youtube.com/watch?v=Vvs7Kx0RWoI&list=PLiQujxowuLQfRA6GY40aRP390b5l8j5MJ&index=59',\n",
       "  'https://www.youtube.com/watch?v=mwkoVz9zzoA&list=PLiQujxowuLQfRA6GY40aRP390b5l8j5MJ&index=60',\n",
       "  'https://www.youtube.com/watch?v=XkdcWIeNork&list=PLiQujxowuLQfRA6GY40aRP390b5l8j5MJ&index=61',\n",
       "  'https://www.youtube.com/watch?v=2vaJnVpaUeU&list=PLiQujxowuLQfRA6GY40aRP390b5l8j5MJ&index=62']}"
      ]
     },
     "execution_count": 54,
     "metadata": {},
     "output_type": "execute_result"
    }
   ],
   "source": [
    "video_url_list"
   ]
  },
  {
   "cell_type": "code",
   "execution_count": null,
   "id": "5c70daf1",
   "metadata": {},
   "outputs": [],
   "source": []
  },
  {
   "cell_type": "markdown",
   "id": "d0882d44",
   "metadata": {},
   "source": [
    "<h1>재생목록 접근 + 영상 url 저장</h1>"
   ]
  },
  {
   "cell_type": "code",
   "execution_count": 10,
   "id": "69b376c2",
   "metadata": {},
   "outputs": [
    {
     "name": "stdout",
     "output_type": "stream",
     "text": [
      "{'벤 10 미니극장': ['https://www.youtube.com/watch?v=XTx3yYv7G4A&list=PLP1_7_sCyhIT7LwSN5XggEV3oznvJAFk9&index=1', 'https://www.youtube.com/watch?v=kAy5oi3T8b0&list=PLP1_7_sCyhIT7LwSN5XggEV3oznvJAFk9&index=2']}\n",
      "{'벤 10 미니극장': ['https://www.youtube.com/watch?v=XTx3yYv7G4A&list=PLP1_7_sCyhIT7LwSN5XggEV3oznvJAFk9&index=1', 'https://www.youtube.com/watch?v=kAy5oi3T8b0&list=PLP1_7_sCyhIT7LwSN5XggEV3oznvJAFk9&index=2'], '클라렌스는 엉뚱해!': ['https://www.youtube.com/watch?v=sGonD_9DMtc&list=PLP1_7_sCyhIR5yZDeCvzjBtmva0lo7dXh&index=1', 'https://www.youtube.com/watch?v=Mdq3dYHyV7c&list=PLP1_7_sCyhIR5yZDeCvzjBtmva0lo7dXh&index=2', 'https://www.youtube.com/watch?v=UGDft1OSh7I&list=PLP1_7_sCyhIR5yZDeCvzjBtmva0lo7dXh&index=3', 'https://www.youtube.com/watch?v=720dPbS_Zhc&list=PLP1_7_sCyhIR5yZDeCvzjBtmva0lo7dXh&index=4', 'https://www.youtube.com/watch?v=YozbW12VDb8&list=PLP1_7_sCyhIR5yZDeCvzjBtmva0lo7dXh&index=5', 'https://www.youtube.com/watch?v=Z60-6Gb9oH8&list=PLP1_7_sCyhIR5yZDeCvzjBtmva0lo7dXh&index=6', 'https://www.youtube.com/watch?v=lm-1MptCPZk&list=PLP1_7_sCyhIR5yZDeCvzjBtmva0lo7dXh&index=7', 'https://www.youtube.com/watch?v=501G4aXIbLI&list=PLP1_7_sCyhIR5yZDeCvzjBtmva0lo7dXh&index=8', 'https://www.youtube.com/watch?v=9X5REFjzl0M&list=PLP1_7_sCyhIR5yZDeCvzjBtmva0lo7dXh&index=9', 'https://www.youtube.com/watch?v=Aix5KBstIEo&list=PLP1_7_sCyhIR5yZDeCvzjBtmva0lo7dXh&index=10', 'https://www.youtube.com/watch?v=kHC4xGEzqoc&list=PLP1_7_sCyhIR5yZDeCvzjBtmva0lo7dXh&index=11', 'https://www.youtube.com/watch?v=44bdVkZrbvs&list=PLP1_7_sCyhIR5yZDeCvzjBtmva0lo7dXh&index=12', 'https://www.youtube.com/watch?v=PNsFih5xyNM&list=PLP1_7_sCyhIR5yZDeCvzjBtmva0lo7dXh&index=13', 'https://www.youtube.com/watch?v=KMDcwoTm5Yc&list=PLP1_7_sCyhIR5yZDeCvzjBtmva0lo7dXh&index=14']}\n"
     ]
    },
    {
     "ename": "KeyboardInterrupt",
     "evalue": "",
     "output_type": "error",
     "traceback": [
      "\u001b[1;31m---------------------------------------------------------------------------\u001b[0m",
      "\u001b[1;31mKeyboardInterrupt\u001b[0m                         Traceback (most recent call last)",
      "\u001b[1;32m~\\AppData\\Local\\Temp\\ipykernel_19664\\2307447841.py\u001b[0m in \u001b[0;36m<module>\u001b[1;34m\u001b[0m\n\u001b[0;32m      4\u001b[0m \u001b[1;32mfor\u001b[0m \u001b[0mi\u001b[0m \u001b[1;32min\u001b[0m \u001b[0mwd\u001b[0m\u001b[1;33m.\u001b[0m\u001b[0mfind_elements_by_css_selector\u001b[0m\u001b[1;33m(\u001b[0m\u001b[1;34m'a#video-title'\u001b[0m\u001b[1;33m)\u001b[0m\u001b[1;33m:\u001b[0m\u001b[1;33m\u001b[0m\u001b[1;33m\u001b[0m\u001b[0m\n\u001b[0;32m      5\u001b[0m     \u001b[0maction\u001b[0m\u001b[1;33m.\u001b[0m\u001b[0mmove_to_element\u001b[0m\u001b[1;33m(\u001b[0m\u001b[0mi\u001b[0m\u001b[1;33m)\u001b[0m\u001b[1;33m.\u001b[0m\u001b[0mperform\u001b[0m\u001b[1;33m(\u001b[0m\u001b[1;33m)\u001b[0m\u001b[1;33m\u001b[0m\u001b[1;33m\u001b[0m\u001b[0m\n\u001b[1;32m----> 6\u001b[1;33m     \u001b[0mtime\u001b[0m\u001b[1;33m.\u001b[0m\u001b[0msleep\u001b[0m\u001b[1;33m(\u001b[0m\u001b[1;36m1\u001b[0m\u001b[1;33m)\u001b[0m\u001b[1;33m\u001b[0m\u001b[1;33m\u001b[0m\u001b[0m\n\u001b[0m\u001b[0;32m      7\u001b[0m     \u001b[0mi\u001b[0m\u001b[1;33m.\u001b[0m\u001b[0mclick\u001b[0m\u001b[1;33m(\u001b[0m\u001b[1;33m)\u001b[0m\u001b[1;33m\u001b[0m\u001b[1;33m\u001b[0m\u001b[0m\n\u001b[0;32m      8\u001b[0m     \u001b[0mtime\u001b[0m\u001b[1;33m.\u001b[0m\u001b[0msleep\u001b[0m\u001b[1;33m(\u001b[0m\u001b[1;36m2\u001b[0m\u001b[1;33m)\u001b[0m\u001b[1;33m\u001b[0m\u001b[1;33m\u001b[0m\u001b[0m\n",
      "\u001b[1;31mKeyboardInterrupt\u001b[0m: "
     ]
    }
   ],
   "source": [
    "video_url_list = {}\n",
    "num = 0\n",
    "\n",
    "for i in wd.find_elements_by_css_selector('a#video-title'):\n",
    "    action.move_to_element(i).perform()\n",
    "    time.sleep(1)\n",
    "    i.click()\n",
    "    time.sleep(2)\n",
    "    \n",
    "    \n",
    "    #재생목록 들어가서 영상 링크 저장하기 매커니즘\n",
    "    video_list = []\n",
    "    for j in wd.find_elements_by_css_selector('div#secondary-inner>ytd-playlist-panel-renderer#playlist>div#container>div#items>ytd-playlist-panel-video-renderer#playlist-items'):\n",
    "        action.move_to_element(j).perform()\n",
    "        time.sleep(1)\n",
    "        j.click()\n",
    "        time.sleep(2)\n",
    "    \n",
    "        video_url = wd.current_url\n",
    "        video_list.append(video_url)\n",
    "    video_url_list[p_list[num]] = video_list\n",
    "    \n",
    "    #재생목록 탭으로 돌아가기\n",
    "    video_counts = wd.find_elements_by_css_selector('div#secondary-inner>ytd-playlist-panel-renderer#playlist>div#container>div#items>ytd-playlist-panel-video-renderer#playlist-items')\n",
    "    for j in range(len(video_counts)+1):\n",
    "        wd.back()\n",
    "        time.sleep(1)\n",
    "    \n",
    "    try :\n",
    "        action.move_to_element(wd.find_element_by_css_selector('div.ytp-miniplayer-scrim')).perform()\n",
    "        wd.find_element_by_xpath('//*[@id=\"movie_player\"]/div[16]/div/button[1]').click()\n",
    "        time.sleep(1)\n",
    "    except:\n",
    "        wd.find_element_by_css_selector('yt-icon#close-icon').click()\n",
    "        time.sleep(1)\n",
    "    \n",
    "    before_h = wd.execute_script('return window.scrollY')\n",
    "\n",
    "    while True:\n",
    "        wd.find_element_by_css_selector(\"body\").send_keys(Keys.END)\n",
    "        time.sleep(1)\n",
    "\n",
    "        after_h = wd.execute_script('return window.scrollY')\n",
    "\n",
    "        if after_h == before_h:\n",
    "            break\n",
    "\n",
    "        before_h = after_h\n",
    "    \n",
    "    num = num + 1\n",
    "    print(video_url_list)"
   ]
  },
  {
   "cell_type": "code",
   "execution_count": 11,
   "id": "f75f048e",
   "metadata": {},
   "outputs": [
    {
     "data": {
      "text/plain": [
       "{'벤 10 미니극장': ['https://www.youtube.com/watch?v=XTx3yYv7G4A&list=PLP1_7_sCyhIT7LwSN5XggEV3oznvJAFk9&index=1',\n",
       "  'https://www.youtube.com/watch?v=kAy5oi3T8b0&list=PLP1_7_sCyhIT7LwSN5XggEV3oznvJAFk9&index=2'],\n",
       " '클라렌스는 엉뚱해!': ['https://www.youtube.com/watch?v=sGonD_9DMtc&list=PLP1_7_sCyhIR5yZDeCvzjBtmva0lo7dXh&index=1',\n",
       "  'https://www.youtube.com/watch?v=Mdq3dYHyV7c&list=PLP1_7_sCyhIR5yZDeCvzjBtmva0lo7dXh&index=2',\n",
       "  'https://www.youtube.com/watch?v=UGDft1OSh7I&list=PLP1_7_sCyhIR5yZDeCvzjBtmva0lo7dXh&index=3',\n",
       "  'https://www.youtube.com/watch?v=720dPbS_Zhc&list=PLP1_7_sCyhIR5yZDeCvzjBtmva0lo7dXh&index=4',\n",
       "  'https://www.youtube.com/watch?v=YozbW12VDb8&list=PLP1_7_sCyhIR5yZDeCvzjBtmva0lo7dXh&index=5',\n",
       "  'https://www.youtube.com/watch?v=Z60-6Gb9oH8&list=PLP1_7_sCyhIR5yZDeCvzjBtmva0lo7dXh&index=6',\n",
       "  'https://www.youtube.com/watch?v=lm-1MptCPZk&list=PLP1_7_sCyhIR5yZDeCvzjBtmva0lo7dXh&index=7',\n",
       "  'https://www.youtube.com/watch?v=501G4aXIbLI&list=PLP1_7_sCyhIR5yZDeCvzjBtmva0lo7dXh&index=8',\n",
       "  'https://www.youtube.com/watch?v=9X5REFjzl0M&list=PLP1_7_sCyhIR5yZDeCvzjBtmva0lo7dXh&index=9',\n",
       "  'https://www.youtube.com/watch?v=Aix5KBstIEo&list=PLP1_7_sCyhIR5yZDeCvzjBtmva0lo7dXh&index=10',\n",
       "  'https://www.youtube.com/watch?v=kHC4xGEzqoc&list=PLP1_7_sCyhIR5yZDeCvzjBtmva0lo7dXh&index=11',\n",
       "  'https://www.youtube.com/watch?v=44bdVkZrbvs&list=PLP1_7_sCyhIR5yZDeCvzjBtmva0lo7dXh&index=12',\n",
       "  'https://www.youtube.com/watch?v=PNsFih5xyNM&list=PLP1_7_sCyhIR5yZDeCvzjBtmva0lo7dXh&index=13',\n",
       "  'https://www.youtube.com/watch?v=KMDcwoTm5Yc&list=PLP1_7_sCyhIR5yZDeCvzjBtmva0lo7dXh&index=14']}"
      ]
     },
     "execution_count": 11,
     "metadata": {},
     "output_type": "execute_result"
    }
   ],
   "source": [
    "video_url_list"
   ]
  },
  {
   "cell_type": "code",
   "execution_count": 31,
   "id": "95454609",
   "metadata": {},
   "outputs": [
    {
     "data": {
      "text/plain": [
       "['https://www.youtube.com/watch?v=YozbW12VDb8&list=PLP1_7_sCyhIR5yZDeCvzjBtmva0lo7dXh&index=1',\n",
       " 'https://www.youtube.com/watch?v=Z60-6Gb9oH8&list=PLP1_7_sCyhIR5yZDeCvzjBtmva0lo7dXh&index=2',\n",
       " 'https://www.youtube.com/watch?v=lm-1MptCPZk&list=PLP1_7_sCyhIR5yZDeCvzjBtmva0lo7dXh&index=3',\n",
       " 'https://www.youtube.com/watch?v=501G4aXIbLI&list=PLP1_7_sCyhIR5yZDeCvzjBtmva0lo7dXh&index=4',\n",
       " 'https://www.youtube.com/watch?v=9X5REFjzl0M&list=PLP1_7_sCyhIR5yZDeCvzjBtmva0lo7dXh&index=5',\n",
       " 'https://www.youtube.com/watch?v=Aix5KBstIEo&list=PLP1_7_sCyhIR5yZDeCvzjBtmva0lo7dXh&index=6',\n",
       " 'https://www.youtube.com/watch?v=kHC4xGEzqoc&list=PLP1_7_sCyhIR5yZDeCvzjBtmva0lo7dXh&index=7',\n",
       " 'https://www.youtube.com/watch?v=44bdVkZrbvs&list=PLP1_7_sCyhIR5yZDeCvzjBtmva0lo7dXh&index=8',\n",
       " 'https://www.youtube.com/watch?v=PNsFih5xyNM&list=PLP1_7_sCyhIR5yZDeCvzjBtmva0lo7dXh&index=9',\n",
       " 'https://www.youtube.com/watch?v=KMDcwoTm5Yc&list=PLP1_7_sCyhIR5yZDeCvzjBtmva0lo7dXh&index=10']"
      ]
     },
     "execution_count": 31,
     "metadata": {},
     "output_type": "execute_result"
    }
   ],
   "source": [
    "video_url_list['클라렌스는 엉뚱해!']"
   ]
  },
  {
   "cell_type": "code",
   "execution_count": null,
   "id": "7a5cae18",
   "metadata": {},
   "outputs": [],
   "source": []
  },
  {
   "cell_type": "markdown",
   "id": "7ddf0ed4",
   "metadata": {},
   "source": [
    "<h2>폴더 생성</h2>"
   ]
  },
  {
   "cell_type": "code",
   "execution_count": 20,
   "id": "edc3a716",
   "metadata": {},
   "outputs": [],
   "source": [
    "def createFolder(directory):\n",
    "    try:\n",
    "        if not os.path.exists(directory):\n",
    "            os.makedirs(directory)\n",
    "    except OSError:\n",
    "        print('Error: Creating directory. '+ directory)"
   ]
  },
  {
   "cell_type": "code",
   "execution_count": 55,
   "id": "8f573fde",
   "metadata": {},
   "outputs": [],
   "source": [
    "file_path = 'G:\\\\AI_Design_LAB\\\\Dataset\\\\로보카폴리안전이야기'"
   ]
  },
  {
   "cell_type": "code",
   "execution_count": 32,
   "id": "9732cef2",
   "metadata": {},
   "outputs": [],
   "source": [
    "createFolder(file_path + '\\\\' + p_list[0])"
   ]
  },
  {
   "cell_type": "code",
   "execution_count": 56,
   "id": "24292a28",
   "metadata": {},
   "outputs": [],
   "source": [
    "urls = video_url_list['로보카폴리안전이야기']"
   ]
  },
  {
   "cell_type": "code",
   "execution_count": 57,
   "id": "77c95702",
   "metadata": {
    "scrolled": true
   },
   "outputs": [
    {
     "data": {
      "text/plain": [
       "['https://www.youtube.com/watch?v=QdLMx69XFnw&list=PLiQujxowuLQfRA6GY40aRP390b5l8j5MJ&index=1',\n",
       " 'https://www.youtube.com/watch?v=jXK3F7cO5Zc&list=PLiQujxowuLQfRA6GY40aRP390b5l8j5MJ&index=2',\n",
       " 'https://www.youtube.com/watch?v=i_nTqpbpCRw&list=PLiQujxowuLQfRA6GY40aRP390b5l8j5MJ&index=3',\n",
       " 'https://www.youtube.com/watch?v=mmKUzc7DnuY&list=PLiQujxowuLQfRA6GY40aRP390b5l8j5MJ&index=4',\n",
       " 'https://www.youtube.com/watch?v=8QZU8KiPoos&list=PLiQujxowuLQfRA6GY40aRP390b5l8j5MJ&index=5',\n",
       " 'https://www.youtube.com/watch?v=CLn9fMjaH7E&list=PLiQujxowuLQfRA6GY40aRP390b5l8j5MJ&index=6',\n",
       " 'https://www.youtube.com/watch?v=1rbI7T5YqRw&list=PLiQujxowuLQfRA6GY40aRP390b5l8j5MJ&index=7',\n",
       " 'https://www.youtube.com/watch?v=xIv559MHkAE&list=PLiQujxowuLQfRA6GY40aRP390b5l8j5MJ&index=8',\n",
       " 'https://www.youtube.com/watch?v=2wRxL-ri6oc&list=PLiQujxowuLQfRA6GY40aRP390b5l8j5MJ&index=9',\n",
       " 'https://www.youtube.com/watch?v=rh2svPCC5t4&list=PLiQujxowuLQfRA6GY40aRP390b5l8j5MJ&index=10',\n",
       " 'https://www.youtube.com/watch?v=5Dn7LM9MQwk&list=PLiQujxowuLQfRA6GY40aRP390b5l8j5MJ&index=11',\n",
       " 'https://www.youtube.com/watch?v=BATwbA3LtrI&list=PLiQujxowuLQfRA6GY40aRP390b5l8j5MJ&index=12',\n",
       " 'https://www.youtube.com/watch?v=PZGpA6XqW8Y&list=PLiQujxowuLQfRA6GY40aRP390b5l8j5MJ&index=13',\n",
       " 'https://www.youtube.com/watch?v=MXPXuIgc4tA&list=PLiQujxowuLQfRA6GY40aRP390b5l8j5MJ&index=14',\n",
       " 'https://www.youtube.com/watch?v=mmkdmA867X0&list=PLiQujxowuLQfRA6GY40aRP390b5l8j5MJ&index=15',\n",
       " 'https://www.youtube.com/watch?v=kh_PTl3yw0Q&list=PLiQujxowuLQfRA6GY40aRP390b5l8j5MJ&index=16',\n",
       " 'https://www.youtube.com/watch?v=R1vZUsVIsIA&list=PLiQujxowuLQfRA6GY40aRP390b5l8j5MJ&index=17',\n",
       " 'https://www.youtube.com/watch?v=8K49A5gEGlc&list=PLiQujxowuLQfRA6GY40aRP390b5l8j5MJ&index=18',\n",
       " 'https://www.youtube.com/watch?v=c7K-LefNcVc&list=PLiQujxowuLQfRA6GY40aRP390b5l8j5MJ&index=19',\n",
       " 'https://www.youtube.com/watch?v=f5YAPqPVZJ4&list=PLiQujxowuLQfRA6GY40aRP390b5l8j5MJ&index=20',\n",
       " 'https://www.youtube.com/watch?v=IkJQzmrxTfA&list=PLiQujxowuLQfRA6GY40aRP390b5l8j5MJ&index=21',\n",
       " 'https://www.youtube.com/watch?v=BrMA0RSfRgs&list=PLiQujxowuLQfRA6GY40aRP390b5l8j5MJ&index=22',\n",
       " 'https://www.youtube.com/watch?v=Us8ZH1giZik&list=PLiQujxowuLQfRA6GY40aRP390b5l8j5MJ&index=23',\n",
       " 'https://www.youtube.com/watch?v=UfIdE7nJjaQ&list=PLiQujxowuLQfRA6GY40aRP390b5l8j5MJ&index=24',\n",
       " 'https://www.youtube.com/watch?v=2zhDv5nf7e0&list=PLiQujxowuLQfRA6GY40aRP390b5l8j5MJ&index=25',\n",
       " 'https://www.youtube.com/watch?v=8a_tfM_sPtk&list=PLiQujxowuLQfRA6GY40aRP390b5l8j5MJ&index=26',\n",
       " 'https://www.youtube.com/watch?v=vU-ILhkk7Ro&list=PLiQujxowuLQfRA6GY40aRP390b5l8j5MJ&index=27',\n",
       " 'https://www.youtube.com/watch?v=RgDkVlyUuF4&list=PLiQujxowuLQfRA6GY40aRP390b5l8j5MJ&index=28',\n",
       " 'https://www.youtube.com/watch?v=hIu64ZTSQ8o&list=PLiQujxowuLQfRA6GY40aRP390b5l8j5MJ&index=29',\n",
       " 'https://www.youtube.com/watch?v=alktLqajyFw&list=PLiQujxowuLQfRA6GY40aRP390b5l8j5MJ&index=30',\n",
       " 'https://www.youtube.com/watch?v=WbW4FS9zO7A&list=PLiQujxowuLQfRA6GY40aRP390b5l8j5MJ&index=31',\n",
       " 'https://www.youtube.com/watch?v=sjqGlTBPWj0&list=PLiQujxowuLQfRA6GY40aRP390b5l8j5MJ&index=32',\n",
       " 'https://www.youtube.com/watch?v=gfSSa9vFrwk&list=PLiQujxowuLQfRA6GY40aRP390b5l8j5MJ&index=33',\n",
       " 'https://www.youtube.com/watch?v=YxzGzED29GM&list=PLiQujxowuLQfRA6GY40aRP390b5l8j5MJ&index=34',\n",
       " 'https://www.youtube.com/watch?v=k82kuSGbUcU&list=PLiQujxowuLQfRA6GY40aRP390b5l8j5MJ&index=35',\n",
       " 'https://www.youtube.com/watch?v=vhKZiFX6NPM&list=PLiQujxowuLQfRA6GY40aRP390b5l8j5MJ&index=36',\n",
       " 'https://www.youtube.com/watch?v=Q0lrOofxhOw&list=PLiQujxowuLQfRA6GY40aRP390b5l8j5MJ&index=37',\n",
       " 'https://www.youtube.com/watch?v=_Ro_PDfpNNQ&list=PLiQujxowuLQfRA6GY40aRP390b5l8j5MJ&index=38',\n",
       " 'https://www.youtube.com/watch?v=If8-AkUh4QY&list=PLiQujxowuLQfRA6GY40aRP390b5l8j5MJ&index=39',\n",
       " 'https://www.youtube.com/watch?v=fjZIA_m3zvc&list=PLiQujxowuLQfRA6GY40aRP390b5l8j5MJ&index=40',\n",
       " 'https://www.youtube.com/watch?v=63ee8DbrhCY&list=PLiQujxowuLQfRA6GY40aRP390b5l8j5MJ&index=41',\n",
       " 'https://www.youtube.com/watch?v=5_aszfDOZDs&list=PLiQujxowuLQfRA6GY40aRP390b5l8j5MJ&index=42',\n",
       " 'https://www.youtube.com/watch?v=_kDveGJHKtM&list=PLiQujxowuLQfRA6GY40aRP390b5l8j5MJ&index=43',\n",
       " 'https://www.youtube.com/watch?v=eDulfSoJYI0&list=PLiQujxowuLQfRA6GY40aRP390b5l8j5MJ&index=44',\n",
       " 'https://www.youtube.com/watch?v=CN580e-Z3B0&list=PLiQujxowuLQfRA6GY40aRP390b5l8j5MJ&index=45',\n",
       " 'https://www.youtube.com/watch?v=N_W8grLA81o&list=PLiQujxowuLQfRA6GY40aRP390b5l8j5MJ&index=46',\n",
       " 'https://www.youtube.com/watch?v=BQCujETChXI&list=PLiQujxowuLQfRA6GY40aRP390b5l8j5MJ&index=47',\n",
       " 'https://www.youtube.com/watch?v=2Iogzboftd0&list=PLiQujxowuLQfRA6GY40aRP390b5l8j5MJ&index=48',\n",
       " 'https://www.youtube.com/watch?v=PivKH4HD-ak&list=PLiQujxowuLQfRA6GY40aRP390b5l8j5MJ&index=49',\n",
       " 'https://www.youtube.com/watch?v=rFsptyMBhBg&list=PLiQujxowuLQfRA6GY40aRP390b5l8j5MJ&index=50',\n",
       " 'https://www.youtube.com/watch?v=OfkRtg4UYK4&list=PLiQujxowuLQfRA6GY40aRP390b5l8j5MJ&index=51',\n",
       " 'https://www.youtube.com/watch?v=ec01ygc5-qk&list=PLiQujxowuLQfRA6GY40aRP390b5l8j5MJ&index=52',\n",
       " 'https://www.youtube.com/watch?v=K5s7J-3EyV0&list=PLiQujxowuLQfRA6GY40aRP390b5l8j5MJ&index=53',\n",
       " 'https://www.youtube.com/watch?v=MxDJGR5VGiE&list=PLiQujxowuLQfRA6GY40aRP390b5l8j5MJ&index=54',\n",
       " 'https://www.youtube.com/watch?v=lcVSBS8M9GQ&list=PLiQujxowuLQfRA6GY40aRP390b5l8j5MJ&index=55',\n",
       " 'https://www.youtube.com/watch?v=Vdp-RvD0dw8&list=PLiQujxowuLQfRA6GY40aRP390b5l8j5MJ&index=56',\n",
       " 'https://www.youtube.com/watch?v=K5axqk9VTug&list=PLiQujxowuLQfRA6GY40aRP390b5l8j5MJ&index=57',\n",
       " 'https://www.youtube.com/watch?v=ZPL41-mmxKc&list=PLiQujxowuLQfRA6GY40aRP390b5l8j5MJ&index=58',\n",
       " 'https://www.youtube.com/watch?v=Vvs7Kx0RWoI&list=PLiQujxowuLQfRA6GY40aRP390b5l8j5MJ&index=59',\n",
       " 'https://www.youtube.com/watch?v=mwkoVz9zzoA&list=PLiQujxowuLQfRA6GY40aRP390b5l8j5MJ&index=60',\n",
       " 'https://www.youtube.com/watch?v=XkdcWIeNork&list=PLiQujxowuLQfRA6GY40aRP390b5l8j5MJ&index=61',\n",
       " 'https://www.youtube.com/watch?v=2vaJnVpaUeU&list=PLiQujxowuLQfRA6GY40aRP390b5l8j5MJ&index=62']"
      ]
     },
     "execution_count": 57,
     "metadata": {},
     "output_type": "execute_result"
    }
   ],
   "source": [
    "urls"
   ]
  },
  {
   "cell_type": "code",
   "execution_count": null,
   "id": "2e2a9402",
   "metadata": {},
   "outputs": [],
   "source": []
  },
  {
   "cell_type": "markdown",
   "id": "093172ea",
   "metadata": {},
   "source": [
    "<h1>mp4 to mp3</h1>"
   ]
  },
  {
   "cell_type": "code",
   "execution_count": 58,
   "id": "32593c22",
   "metadata": {},
   "outputs": [],
   "source": [
    "f_path = file_path"
   ]
  },
  {
   "cell_type": "code",
   "execution_count": 43,
   "id": "8a87838f",
   "metadata": {},
   "outputs": [],
   "source": [
    "for url in urls:\n",
    "    yt = YouTube(url)\n",
    "    yt.streams.filter(only_audio=True).first().download(f_path)"
   ]
  },
  {
   "cell_type": "code",
   "execution_count": 36,
   "id": "bf5c16bb",
   "metadata": {
    "scrolled": true
   },
   "outputs": [
    {
     "data": {
      "text/plain": [
       "['[벤 10 미니극장] 1화 업그레이드 2화 캐논볼ㅣBentuition.mp4',\n",
       " '[벤 10 미니극장] 3화 스피드 4화 루트맨ㅣBentuition.mp4']"
      ]
     },
     "execution_count": 36,
     "metadata": {},
     "output_type": "execute_result"
    }
   ],
   "source": [
    "file_names = os.listdir(f_path)\n",
    "file_names"
   ]
  },
  {
   "cell_type": "code",
   "execution_count": 37,
   "id": "bb658452",
   "metadata": {},
   "outputs": [],
   "source": [
    "num = 1\n",
    "for i in range(int(len(file_names)/2), len(file_names), 1):\n",
    "    os.rename(f_path + '\\\\' + file_names[i], f_path + '\\\\' + p_list[0] + '_' + str(num) + '.mp3')\n",
    "    num = num + 1"
   ]
  },
  {
   "cell_type": "code",
   "execution_count": 38,
   "id": "af957d38",
   "metadata": {},
   "outputs": [
    {
     "data": {
      "text/plain": [
       "['[벤 10 미니극장] 1화 업그레이드 2화 캐논볼ㅣBentuition.mp4', '벤 10 미니극장_1.mp3']"
      ]
     },
     "execution_count": 38,
     "metadata": {},
     "output_type": "execute_result"
    }
   ],
   "source": [
    "file_names = os.listdir(f_path)\n",
    "file_names"
   ]
  },
  {
   "cell_type": "code",
   "execution_count": null,
   "id": "b72943cd",
   "metadata": {},
   "outputs": [],
   "source": []
  },
  {
   "cell_type": "markdown",
   "id": "69a03cae",
   "metadata": {},
   "source": [
    "<h1>유튜브에서 영상 mp4로 다운받기</h1>"
   ]
  },
  {
   "cell_type": "code",
   "execution_count": 69,
   "id": "6d512e9e",
   "metadata": {},
   "outputs": [],
   "source": [
    "new_urls = urls[3:]"
   ]
  },
  {
   "cell_type": "code",
   "execution_count": 59,
   "id": "9193eb48",
   "metadata": {},
   "outputs": [],
   "source": [
    "for url in urls:\n",
    "    yt = YouTube(url)\n",
    "    stream = yt.streams.get_highest_resolution()\n",
    "    stream.download(f_path)"
   ]
  },
  {
   "cell_type": "code",
   "execution_count": 60,
   "id": "c76a0f6f",
   "metadata": {
    "scrolled": true
   },
   "outputs": [
    {
     "data": {
      "text/plain": [
       "['교통 사고가 났을 때는 어떻게 하죠  로보카폴리와 함께하는 안전 이야기  키즈애니메이션  폴리  엠버  로이  로보카폴리 TV.mp4',\n",
       " '캠핑장에서는 불 조심 해요  안전 시리즈 베스트 에피소드  용감한 구조대  어린이 애니메이션  로보카폴리 TV.mp4',\n",
       " '산에서는 안전하게 놀아요  로보카폴리와 함께하는 안전 이야기  어린이 만화  키즈애니메이션  폴리  엠버  로이  로보카폴리 TV.mp4',\n",
       " '불이 났을 때는 숨으면 안돼요  로보카폴리와 함께하는 안전 이야기  키즈애니메이션  폴리  엠버  로이  로보카폴리 TV.mp4',\n",
       " '비가 많이 올 때는 어떻게 하죠  안전 이야기 베스트 에피소드  용감한 구조대  어린이 애니메이션  로보카폴리 TV.mp4',\n",
       " '차들이 많은 곳에서는 조심해요  로보카폴리와 함께하는 안전 이야기  키즈애니메이션  어린이를 위한 안전교육  로보카폴리 TV.mp4',\n",
       " '안전선 밖은 위험해요  로보카폴리와 함께하는 안전 이야기  키즈 애니메이션  어린이 만화  안전 교육  로보카폴리 TV.mp4',\n",
       " '뜨거운 물 주의하세요  로보카폴리와 함께하는 안전 이야기  키즈애니메이션  어린이를 위한 안전교육  로보카폴리 TV.mp4',\n",
       " '콘센트에 코드를 많이 꽂으면 안돼요!  로보카폴리와 함께하는 안전 이야기  키즈애니메이션  어린이를 위한 안전교육  로보카폴리 TV.mp4',\n",
       " '여름에는 음식을 주의해요🍧  로보카폴리와 함께하는 안전 이야기  키즈애니메이션  어린이를 위한 안전교육  로보카폴리 TV.mp4',\n",
       " '무서운 번개⚡  로보카폴리와 함께하는 안전 이야기  키즈애니메이션  어린이를 위한 안전교육  로보카폴리 TV.mp4',\n",
       " '무단횡단은 매우 위험해요  로보카폴리와 함께하는 안전 이야기  키즈애니메이션  어린이를 위한 안전교육  로보카폴리 TV.mp4',\n",
       " '추운 날에는 조심해서 놀아요  로보카폴리와 함께하는 안전 이야기  키즈애니메이션  어린이를 위한 안전교육  로보카폴리 TV.mp4',\n",
       " '놀이기구를 타는 방법  안전시리즈 베스트 클립 모음  어린이를 위한 안전교육  키즈애니메이션  로보카폴리 TV.mp4',\n",
       " '소화기 사용 방법   로보카폴리와 함께하는 안전 이야기  키즈애니메이션  어린이를 위한 안전교육  로보카폴리 TV.mp4',\n",
       " '공놀이 할 때는 주의해요  로보카폴리와 함께하는 안전 이야기  키즈애니메이션  어린이를 위한 안전교육  로보카폴리 TV.mp4',\n",
       " '나는야 일일 소방대원  안전시리즈 베스트 클립 모음  어린이를 위한 안전교육  자동차 만화  로보카폴리 TV.mp4',\n",
       " '주방은 위험해요  로보카폴리와 함께하는 안전 이야기  키즈애니메이션  어린이 안전교육  생활안전  교통안전  소방안전  로보카폴리 TV.mp4',\n",
       " '기차역에서는 조심해요  로보카폴리와 함께하는 안전 이야기  키즈애니메이션  어린이 안전교육  생활안전  교통안전  소방안전  로보카폴리 TV.mp4',\n",
       " '사각지대는 항상 위험해요  로보카폴리와 함께하는 안전 이야기  어린이 애니메이션  어린이 안전교육  생활안전  교통안전  소방안전  로보카폴리 TV.mp4',\n",
       " '놀이터에서는 안전하게 놀아요  로보카폴리와 함께하는 안전 이야기  키즈 애니메이션  어린이 안전교육  생활안전  교통안전  소방안전  로보카폴리 TV.mp4',\n",
       " '버디는 장난꾸러기🐶  로보카폴리와 함께하는 안전 이야기  키즈 애니메이션  어린이 안전교육  생활안전  교통안전  소방안전  로보카폴리 TV.mp4',\n",
       " '산불은 무서워요  안전시리즈 베스트 클립 모음  어린이를 위한 안전교육  자동차 만화  로보카폴리 TV.mp4',\n",
       " '더위 대소동  안전교육  어린이를 위한 교육 만화  키즈 애니메이션  어린이 만화.mp4',\n",
       " '횡단 보도를 건널 때는 조심해요!  로보카폴리와 함께하는 안전 이야기  키즈 애니메이션  어린이 안전교육  생활안전  교통안전  소방안전  로보카폴리 TV.mp4',\n",
       " '불이 났어요!🔥  로보카폴리와 함께하는 안전 이야기  어린이 애니메이션  어린이 안전교육  생활안전  교통안전  소방안전  로보카폴리 TV.mp4',\n",
       " '자전거를 안전하게 타요🚲  로보카폴리와 함께하는 안전 이야기  어린이 애니메이션  어린이 안전교육  생활안전  교통안전  소방안전  로보카폴리 TV.mp4',\n",
       " '야외활동은 조심히!  안전시리즈 베스트 모음  로보카폴리 안전 이야기  어린이를 위한 안전교육  로보카폴리 TV.mp4',\n",
       " '차에서 내릴 때는 조심해요!  로보카폴리와 함께하는 안전 이야기  어린이 애니메이션  어린이 안전교육  생활안전  교통안전  소방안전  로보카폴리 TV.mp4',\n",
       " '로보카폴리와 함께하는 안전 이야기  뜨거운 물은 위험해!  어린이 애니메이션  어린이 안전교육  생활안전  교통안전  소방안전  로보카폴리 TV.mp4',\n",
       " '로보카폴리로 배우는 안전 이야기  겨울철 운동 안전하게 즐겨요!  어린이를 위한 안전교육  어린이 애니메이션  로보카폴리 TV.mp4',\n",
       " '로보카폴리로 배우는 안전 이야기  눈 오는 날은 조심해요  어린이를 위한 안전교육  어린이 애니메이션  로보카폴리 TV.mp4',\n",
       " '로이 폴리 엠버와 함께하는 안전이야기  어린이 애니메이션  어린이 안전교육  소방안전  교통안전  생활안전  로보카폴리 TV.mp4',\n",
       " '엠버 로이 폴리와 함께하는 안전이야기  어린이 애니메이션  어린이 안전교육  생활안전  소방안전  교통안전  로보카폴리 TV.mp4',\n",
       " '폴리 로이 엠버와 함께하는 안전이야기  어린이 애니메이션  어린이 안전교육  생활안전  교통안전  소방안전  로보카폴리 TV.mp4',\n",
       " '로이 엠버 폴리와 함께하는 안전이야기  어린이 애니메이션  어린이 안전교육  생활안전  교통안전  소방안전  로보카폴리 TV.mp4',\n",
       " '엠버 폴리 로이와 함께하는 안전이야기  어린이 애니메이션  어린이 안전교육  생활안전  교통안전  소방안전  로보카폴리 TV.mp4',\n",
       " '폴리 엠버 로이와 함께하는 안전이야기  어린이 애니메이션  어린이 안전교육  생활안전  교통안전  소방안전  로보카폴리 TV.mp4',\n",
       " '어린이를 위한 겨울철 안전수칙 특집  로보카폴리 안전이야기 모음  어린이 애니메이션  안전 교육  로보카폴리 TV.mp4',\n",
       " '로보카폴리 생활안전 베스트 에피소드 운동 안전 편  어린이 애니메이션  로보카폴리 TV.mp4',\n",
       " '로보카폴리 소방안전 베스트 에피소드 집 안 안전 편  어린이 애니메이션  로보카폴리 TV.mp4',\n",
       " '로보카폴리 교통안전 베스트 에피소드 탈것 안전 편  어린이 애니메이션  로보카폴리 TV.mp4',\n",
       " '엠버 로이 폴리와 함께하는 안전이야기  어린이 애니메이션  어린이 안전교육  생활안전  교통안전  소방안전  로보카폴리 TV.mp4',\n",
       " '로이 폴리 엠버와 함께하는 안전이야기  어린이 애니메이션  어린이 안전교육  생활안전  교통안전  소방안전  로보카폴리 TV.mp4',\n",
       " '폴리·엠버와 함께하는 안전이야기  어린이 안전교육  교통안전·생활안전  키즈 애니메이션  로보카폴리 TV.mp4',\n",
       " '엠버 로이와 함께하는 안전이야기  13화16화  엠버와 함께하는 생활안전이야기  로이와 함께하는 소방안전 이야기  어린이 애니메이션  로보카폴리 TV.mp4',\n",
       " '로보카폴리 안전 스페셜  13화16화  교통안전·소방안전  어린이 안전교육  키즈 애니메이션  로보카폴리 TV.mp4',\n",
       " '로보카폴리 안전 스페셜  폴리와 함께하는 교통안전이야기 · 엠버와 함께하는 소방안전이야기  어린이 안전교육  키즈 애니메이션  로보카폴리 TV.mp4',\n",
       " '엠버 로이와 함께하는 안전이야기  7화12화  엠버와 함께하는 생활안전이야기  로이와 함께하는 소방안전 이야기  어린이 애니메이션  로보카폴리 TV.mp4',\n",
       " '로보카폴리 안전 스페셜  7화12화  교통안전·소방안전  어린이 안전교육  키즈 애니메이션  로보카폴리 TV.mp4',\n",
       " '로보카폴리 안전이야기 스페셜  탈것 안전  어린이 안전 교육  키즈 애니메이션  로보카폴리 TV.mp4',\n",
       " '폴리 엠버 로이와 함께하는 안전이야기 스페셜 2  교통안전·생활안전·소방안전 등  어린이 애니메이션  로보카폴리 TV.mp4',\n",
       " '비 오는 날의 안전 이야기  로보카폴리 안전 스페셜  어린이 안전 교육  폴리와 함께하는 교통안전이야기  로이와 함께하는 소방안전이야기  로보카폴리 TV.mp4',\n",
       " '엠버 폴리와 함께하는 안전이야기 스페셜  엠버와 함께하는 생활안전이야기 · 폴리와 함께하는 교통안전이야기  로보카폴리 TV.mp4',\n",
       " '엠버와 함께하는 생활안전이야기 스페셜  여름철 안전 특집  20분  주제가 포함  어린이 애니메이션  로보카폴리 TV.mp4',\n",
       " '폴리 엠버 로이와 함께하는 안전이야기 스페셜  교통안전·생활안전·소방안전 등  어린이 애니메이션  로보카폴리 TV.mp4',\n",
       " '로보카폴리 안전이야기 스페셜  폴리와 함께하는 교통안전이야기 · 엠버와 함께하는 생활안전이야기  어린이 애니메이션  로보카폴리 TV.mp4',\n",
       " '엠버 로이와 함께하는 안전이야기  1화6화  엠버와 함께하는 생활안전이야기  로이와 함께하는 소방안전 이야기  어린이 애니메이션  로보카폴리 TV.mp4',\n",
       " '로보카폴리 안전이야기 스페셜  1화6화  폴리와 함께하는 교통안전이야기 · 로이와 함께하는 소방안전이야기  로보카폴리 TV.mp4']"
      ]
     },
     "execution_count": 60,
     "metadata": {},
     "output_type": "execute_result"
    }
   ],
   "source": [
    "file_names = os.listdir(f_path)\n",
    "file_names"
   ]
  },
  {
   "cell_type": "code",
   "execution_count": 61,
   "id": "c8a7989e",
   "metadata": {},
   "outputs": [],
   "source": [
    "num = 1\n",
    "for i in file_names:\n",
    "    src = os.path.join(f_path, i)\n",
    "    dst = '로보카폴리안전이야기' + '_' + str(num) + '.mp4'\n",
    "    dst = os.path.join(f_path, dst)\n",
    "    os.rename(src, dst)\n",
    "    num = num + 1"
   ]
  },
  {
   "cell_type": "code",
   "execution_count": 62,
   "id": "c10ce054",
   "metadata": {},
   "outputs": [
    {
     "data": {
      "text/plain": [
       "['로보카폴리안전이야기_1.mp4',\n",
       " '로보카폴리안전이야기_2.mp4',\n",
       " '로보카폴리안전이야기_3.mp4',\n",
       " '로보카폴리안전이야기_4.mp4',\n",
       " '로보카폴리안전이야기_5.mp4',\n",
       " '로보카폴리안전이야기_6.mp4',\n",
       " '로보카폴리안전이야기_7.mp4',\n",
       " '로보카폴리안전이야기_8.mp4',\n",
       " '로보카폴리안전이야기_9.mp4',\n",
       " '로보카폴리안전이야기_10.mp4',\n",
       " '로보카폴리안전이야기_11.mp4',\n",
       " '로보카폴리안전이야기_12.mp4',\n",
       " '로보카폴리안전이야기_13.mp4',\n",
       " '로보카폴리안전이야기_14.mp4',\n",
       " '로보카폴리안전이야기_15.mp4',\n",
       " '로보카폴리안전이야기_16.mp4',\n",
       " '로보카폴리안전이야기_17.mp4',\n",
       " '로보카폴리안전이야기_18.mp4',\n",
       " '로보카폴리안전이야기_19.mp4',\n",
       " '로보카폴리안전이야기_20.mp4',\n",
       " '로보카폴리안전이야기_21.mp4',\n",
       " '로보카폴리안전이야기_22.mp4',\n",
       " '로보카폴리안전이야기_23.mp4',\n",
       " '로보카폴리안전이야기_24.mp4',\n",
       " '로보카폴리안전이야기_25.mp4',\n",
       " '로보카폴리안전이야기_26.mp4',\n",
       " '로보카폴리안전이야기_27.mp4',\n",
       " '로보카폴리안전이야기_28.mp4',\n",
       " '로보카폴리안전이야기_29.mp4',\n",
       " '로보카폴리안전이야기_30.mp4',\n",
       " '로보카폴리안전이야기_31.mp4',\n",
       " '로보카폴리안전이야기_32.mp4',\n",
       " '로보카폴리안전이야기_33.mp4',\n",
       " '로보카폴리안전이야기_34.mp4',\n",
       " '로보카폴리안전이야기_35.mp4',\n",
       " '로보카폴리안전이야기_36.mp4',\n",
       " '로보카폴리안전이야기_37.mp4',\n",
       " '로보카폴리안전이야기_38.mp4',\n",
       " '로보카폴리안전이야기_39.mp4',\n",
       " '로보카폴리안전이야기_40.mp4',\n",
       " '로보카폴리안전이야기_41.mp4',\n",
       " '로보카폴리안전이야기_42.mp4',\n",
       " '로보카폴리안전이야기_43.mp4',\n",
       " '로보카폴리안전이야기_44.mp4',\n",
       " '로보카폴리안전이야기_45.mp4',\n",
       " '로보카폴리안전이야기_46.mp4',\n",
       " '로보카폴리안전이야기_47.mp4',\n",
       " '로보카폴리안전이야기_48.mp4',\n",
       " '로보카폴리안전이야기_49.mp4',\n",
       " '로보카폴리안전이야기_50.mp4',\n",
       " '로보카폴리안전이야기_51.mp4',\n",
       " '로보카폴리안전이야기_52.mp4',\n",
       " '로보카폴리안전이야기_53.mp4',\n",
       " '로보카폴리안전이야기_54.mp4',\n",
       " '로보카폴리안전이야기_55.mp4',\n",
       " '로보카폴리안전이야기_56.mp4',\n",
       " '로보카폴리안전이야기_57.mp4',\n",
       " '로보카폴리안전이야기_58.mp4',\n",
       " '로보카폴리안전이야기_59.mp4']"
      ]
     },
     "execution_count": 62,
     "metadata": {},
     "output_type": "execute_result"
    }
   ],
   "source": [
    "file_names = os.listdir(f_path)\n",
    "file_names"
   ]
  },
  {
   "cell_type": "code",
   "execution_count": null,
   "id": "b95006a5",
   "metadata": {},
   "outputs": [],
   "source": []
  },
  {
   "cell_type": "markdown",
   "id": "7975a412",
   "metadata": {},
   "source": [
    "<h1>mp3 to wav</h1>"
   ]
  },
  {
   "cell_type": "code",
   "execution_count": null,
   "id": "5f56d26b",
   "metadata": {},
   "outputs": [],
   "source": []
  },
  {
   "cell_type": "code",
   "execution_count": 2,
   "id": "789825a5",
   "metadata": {},
   "outputs": [],
   "source": [
    "src = 'C:\\Programming\\origin.mp3'\n",
    "dat = 'C:\\Programming\\new.wav'"
   ]
  },
  {
   "cell_type": "code",
   "execution_count": 3,
   "id": "209d982c",
   "metadata": {},
   "outputs": [
    {
     "data": {
      "text/plain": [
       "True"
      ]
     },
     "execution_count": 3,
     "metadata": {},
     "output_type": "execute_result"
    }
   ],
   "source": [
    "os.path.isfile(src)"
   ]
  },
  {
   "cell_type": "code",
   "execution_count": 4,
   "id": "427ebb3b",
   "metadata": {},
   "outputs": [
    {
     "ename": "FileNotFoundError",
     "evalue": "[WinError 2] 지정된 파일을 찾을 수 없습니다",
     "output_type": "error",
     "traceback": [
      "\u001b[1;31m---------------------------------------------------------------------------\u001b[0m",
      "\u001b[1;31mFileNotFoundError\u001b[0m                         Traceback (most recent call last)",
      "\u001b[1;32m~\\AppData\\Local\\Temp\\ipykernel_5504\\1693167245.py\u001b[0m in \u001b[0;36m<module>\u001b[1;34m\u001b[0m\n\u001b[1;32m----> 1\u001b[1;33m \u001b[0msound\u001b[0m \u001b[1;33m=\u001b[0m \u001b[0mAudioSegment\u001b[0m\u001b[1;33m.\u001b[0m\u001b[0mfrom_mp3\u001b[0m\u001b[1;33m(\u001b[0m\u001b[0msrc\u001b[0m\u001b[1;33m)\u001b[0m\u001b[1;33m\u001b[0m\u001b[1;33m\u001b[0m\u001b[0m\n\u001b[0m\u001b[0;32m      2\u001b[0m \u001b[0msound\u001b[0m\u001b[1;33m.\u001b[0m\u001b[0mexport\u001b[0m\u001b[1;33m(\u001b[0m\u001b[0mdat\u001b[0m\u001b[1;33m,\u001b[0m \u001b[0mformat\u001b[0m\u001b[1;33m=\u001b[0m\u001b[1;34m'wav'\u001b[0m\u001b[1;33m)\u001b[0m\u001b[1;33m\u001b[0m\u001b[1;33m\u001b[0m\u001b[0m\n",
      "\u001b[1;32m~\\.conda\\envs\\DS\\lib\\site-packages\\pydub\\audio_segment.py\u001b[0m in \u001b[0;36mfrom_mp3\u001b[1;34m(cls, file, parameters)\u001b[0m\n\u001b[0;32m    794\u001b[0m     \u001b[1;33m@\u001b[0m\u001b[0mclassmethod\u001b[0m\u001b[1;33m\u001b[0m\u001b[1;33m\u001b[0m\u001b[0m\n\u001b[0;32m    795\u001b[0m     \u001b[1;32mdef\u001b[0m \u001b[0mfrom_mp3\u001b[0m\u001b[1;33m(\u001b[0m\u001b[0mcls\u001b[0m\u001b[1;33m,\u001b[0m \u001b[0mfile\u001b[0m\u001b[1;33m,\u001b[0m \u001b[0mparameters\u001b[0m\u001b[1;33m=\u001b[0m\u001b[1;32mNone\u001b[0m\u001b[1;33m)\u001b[0m\u001b[1;33m:\u001b[0m\u001b[1;33m\u001b[0m\u001b[1;33m\u001b[0m\u001b[0m\n\u001b[1;32m--> 796\u001b[1;33m         \u001b[1;32mreturn\u001b[0m \u001b[0mcls\u001b[0m\u001b[1;33m.\u001b[0m\u001b[0mfrom_file\u001b[0m\u001b[1;33m(\u001b[0m\u001b[0mfile\u001b[0m\u001b[1;33m,\u001b[0m \u001b[1;34m'mp3'\u001b[0m\u001b[1;33m,\u001b[0m \u001b[0mparameters\u001b[0m\u001b[1;33m=\u001b[0m\u001b[0mparameters\u001b[0m\u001b[1;33m)\u001b[0m\u001b[1;33m\u001b[0m\u001b[1;33m\u001b[0m\u001b[0m\n\u001b[0m\u001b[0;32m    797\u001b[0m \u001b[1;33m\u001b[0m\u001b[0m\n\u001b[0;32m    798\u001b[0m     \u001b[1;33m@\u001b[0m\u001b[0mclassmethod\u001b[0m\u001b[1;33m\u001b[0m\u001b[1;33m\u001b[0m\u001b[0m\n",
      "\u001b[1;32m~\\.conda\\envs\\DS\\lib\\site-packages\\pydub\\audio_segment.py\u001b[0m in \u001b[0;36mfrom_file\u001b[1;34m(cls, file, format, codec, parameters, start_second, duration, **kwargs)\u001b[0m\n\u001b[0;32m    726\u001b[0m             \u001b[0minfo\u001b[0m \u001b[1;33m=\u001b[0m \u001b[1;32mNone\u001b[0m\u001b[1;33m\u001b[0m\u001b[1;33m\u001b[0m\u001b[0m\n\u001b[0;32m    727\u001b[0m         \u001b[1;32melse\u001b[0m\u001b[1;33m:\u001b[0m\u001b[1;33m\u001b[0m\u001b[1;33m\u001b[0m\u001b[0m\n\u001b[1;32m--> 728\u001b[1;33m             \u001b[0minfo\u001b[0m \u001b[1;33m=\u001b[0m \u001b[0mmediainfo_json\u001b[0m\u001b[1;33m(\u001b[0m\u001b[0morig_file\u001b[0m\u001b[1;33m,\u001b[0m \u001b[0mread_ahead_limit\u001b[0m\u001b[1;33m=\u001b[0m\u001b[0mread_ahead_limit\u001b[0m\u001b[1;33m)\u001b[0m\u001b[1;33m\u001b[0m\u001b[1;33m\u001b[0m\u001b[0m\n\u001b[0m\u001b[0;32m    729\u001b[0m         \u001b[1;32mif\u001b[0m \u001b[0minfo\u001b[0m\u001b[1;33m:\u001b[0m\u001b[1;33m\u001b[0m\u001b[1;33m\u001b[0m\u001b[0m\n\u001b[0;32m    730\u001b[0m             audio_streams = [x for x in info['streams']\n",
      "\u001b[1;32m~\\.conda\\envs\\DS\\lib\\site-packages\\pydub\\utils.py\u001b[0m in \u001b[0;36mmediainfo_json\u001b[1;34m(filepath, read_ahead_limit)\u001b[0m\n\u001b[0;32m    272\u001b[0m \u001b[1;33m\u001b[0m\u001b[0m\n\u001b[0;32m    273\u001b[0m     \u001b[0mcommand\u001b[0m \u001b[1;33m=\u001b[0m \u001b[1;33m[\u001b[0m\u001b[0mprober\u001b[0m\u001b[1;33m,\u001b[0m \u001b[1;34m'-of'\u001b[0m\u001b[1;33m,\u001b[0m \u001b[1;34m'json'\u001b[0m\u001b[1;33m]\u001b[0m \u001b[1;33m+\u001b[0m \u001b[0mcommand_args\u001b[0m\u001b[1;33m\u001b[0m\u001b[1;33m\u001b[0m\u001b[0m\n\u001b[1;32m--> 274\u001b[1;33m     \u001b[0mres\u001b[0m \u001b[1;33m=\u001b[0m \u001b[0mPopen\u001b[0m\u001b[1;33m(\u001b[0m\u001b[0mcommand\u001b[0m\u001b[1;33m,\u001b[0m \u001b[0mstdin\u001b[0m\u001b[1;33m=\u001b[0m\u001b[0mstdin_parameter\u001b[0m\u001b[1;33m,\u001b[0m \u001b[0mstdout\u001b[0m\u001b[1;33m=\u001b[0m\u001b[0mPIPE\u001b[0m\u001b[1;33m,\u001b[0m \u001b[0mstderr\u001b[0m\u001b[1;33m=\u001b[0m\u001b[0mPIPE\u001b[0m\u001b[1;33m)\u001b[0m\u001b[1;33m\u001b[0m\u001b[1;33m\u001b[0m\u001b[0m\n\u001b[0m\u001b[0;32m    275\u001b[0m     \u001b[0moutput\u001b[0m\u001b[1;33m,\u001b[0m \u001b[0mstderr\u001b[0m \u001b[1;33m=\u001b[0m \u001b[0mres\u001b[0m\u001b[1;33m.\u001b[0m\u001b[0mcommunicate\u001b[0m\u001b[1;33m(\u001b[0m\u001b[0minput\u001b[0m\u001b[1;33m=\u001b[0m\u001b[0mstdin_data\u001b[0m\u001b[1;33m)\u001b[0m\u001b[1;33m\u001b[0m\u001b[1;33m\u001b[0m\u001b[0m\n\u001b[0;32m    276\u001b[0m     \u001b[0moutput\u001b[0m \u001b[1;33m=\u001b[0m \u001b[0moutput\u001b[0m\u001b[1;33m.\u001b[0m\u001b[0mdecode\u001b[0m\u001b[1;33m(\u001b[0m\u001b[1;34m\"utf-8\"\u001b[0m\u001b[1;33m,\u001b[0m \u001b[1;34m'ignore'\u001b[0m\u001b[1;33m)\u001b[0m\u001b[1;33m\u001b[0m\u001b[1;33m\u001b[0m\u001b[0m\n",
      "\u001b[1;32m~\\.conda\\envs\\DS\\lib\\subprocess.py\u001b[0m in \u001b[0;36m__init__\u001b[1;34m(self, args, bufsize, executable, stdin, stdout, stderr, preexec_fn, close_fds, shell, cwd, env, universal_newlines, startupinfo, creationflags, restore_signals, start_new_session, pass_fds, encoding, errors, text)\u001b[0m\n\u001b[0;32m    798\u001b[0m                                 \u001b[0mc2pread\u001b[0m\u001b[1;33m,\u001b[0m \u001b[0mc2pwrite\u001b[0m\u001b[1;33m,\u001b[0m\u001b[1;33m\u001b[0m\u001b[1;33m\u001b[0m\u001b[0m\n\u001b[0;32m    799\u001b[0m                                 \u001b[0merrread\u001b[0m\u001b[1;33m,\u001b[0m \u001b[0merrwrite\u001b[0m\u001b[1;33m,\u001b[0m\u001b[1;33m\u001b[0m\u001b[1;33m\u001b[0m\u001b[0m\n\u001b[1;32m--> 800\u001b[1;33m                                 restore_signals, start_new_session)\n\u001b[0m\u001b[0;32m    801\u001b[0m         \u001b[1;32mexcept\u001b[0m\u001b[1;33m:\u001b[0m\u001b[1;33m\u001b[0m\u001b[1;33m\u001b[0m\u001b[0m\n\u001b[0;32m    802\u001b[0m             \u001b[1;31m# Cleanup if the child failed starting.\u001b[0m\u001b[1;33m\u001b[0m\u001b[1;33m\u001b[0m\u001b[1;33m\u001b[0m\u001b[0m\n",
      "\u001b[1;32m~\\.conda\\envs\\DS\\lib\\subprocess.py\u001b[0m in \u001b[0;36m_execute_child\u001b[1;34m(self, args, executable, preexec_fn, close_fds, pass_fds, cwd, env, startupinfo, creationflags, shell, p2cread, p2cwrite, c2pread, c2pwrite, errread, errwrite, unused_restore_signals, unused_start_new_session)\u001b[0m\n\u001b[0;32m   1205\u001b[0m                                          \u001b[0menv\u001b[0m\u001b[1;33m,\u001b[0m\u001b[1;33m\u001b[0m\u001b[1;33m\u001b[0m\u001b[0m\n\u001b[0;32m   1206\u001b[0m                                          \u001b[0mos\u001b[0m\u001b[1;33m.\u001b[0m\u001b[0mfspath\u001b[0m\u001b[1;33m(\u001b[0m\u001b[0mcwd\u001b[0m\u001b[1;33m)\u001b[0m \u001b[1;32mif\u001b[0m \u001b[0mcwd\u001b[0m \u001b[1;32mis\u001b[0m \u001b[1;32mnot\u001b[0m \u001b[1;32mNone\u001b[0m \u001b[1;32melse\u001b[0m \u001b[1;32mNone\u001b[0m\u001b[1;33m,\u001b[0m\u001b[1;33m\u001b[0m\u001b[1;33m\u001b[0m\u001b[0m\n\u001b[1;32m-> 1207\u001b[1;33m                                          startupinfo)\n\u001b[0m\u001b[0;32m   1208\u001b[0m             \u001b[1;32mfinally\u001b[0m\u001b[1;33m:\u001b[0m\u001b[1;33m\u001b[0m\u001b[1;33m\u001b[0m\u001b[0m\n\u001b[0;32m   1209\u001b[0m                 \u001b[1;31m# Child is launched. Close the parent's copy of those pipe\u001b[0m\u001b[1;33m\u001b[0m\u001b[1;33m\u001b[0m\u001b[1;33m\u001b[0m\u001b[0m\n",
      "\u001b[1;31mFileNotFoundError\u001b[0m: [WinError 2] 지정된 파일을 찾을 수 없습니다"
     ]
    }
   ],
   "source": [
    "sound = AudioSegment.from_mp3(src)\n",
    "sound.export(dat, format='wav')"
   ]
  },
  {
   "cell_type": "code",
   "execution_count": null,
   "id": "3482119c",
   "metadata": {},
   "outputs": [],
   "source": []
  },
  {
   "cell_type": "code",
   "execution_count": 4,
   "id": "70d0295f",
   "metadata": {},
   "outputs": [],
   "source": [
    "for i in range(len(file_names)/):\n",
    "    src = f_path + '\\\\' + file_names[i]\n",
    "    dat = 'G:\\AI Design LAB\\Dataset\\카툰네트워크\\클라렌스는 엉뚱해!\\\\벤 10 미니극장_1.mp3'"
   ]
  },
  {
   "cell_type": "code",
   "execution_count": 39,
   "id": "e93fa794",
   "metadata": {},
   "outputs": [],
   "source": [
    "dat = 'G:\\AI Design LAB\\Dataset\\카툰네트워크\\클라렌스는 엉뚱해!\\\\벤 10 미니극장_1.mp3'"
   ]
  },
  {
   "cell_type": "code",
   "execution_count": 41,
   "id": "200adab9",
   "metadata": {},
   "outputs": [
    {
     "data": {
      "text/plain": [
       "True"
      ]
     },
     "execution_count": 41,
     "metadata": {},
     "output_type": "execute_result"
    }
   ],
   "source": [
    "os.path.isfile(dat)"
   ]
  },
  {
   "cell_type": "code",
   "execution_count": 40,
   "id": "ea013ea1",
   "metadata": {
    "scrolled": true
   },
   "outputs": [
    {
     "ename": "FileNotFoundError",
     "evalue": "[WinError 2] 지정된 파일을 찾을 수 없습니다",
     "output_type": "error",
     "traceback": [
      "\u001b[1;31m---------------------------------------------------------------------------\u001b[0m",
      "\u001b[1;31mFileNotFoundError\u001b[0m                         Traceback (most recent call last)",
      "\u001b[1;32m~\\AppData\\Local\\Temp\\ipykernel_19664\\4224725265.py\u001b[0m in \u001b[0;36m<module>\u001b[1;34m\u001b[0m\n\u001b[1;32m----> 1\u001b[1;33m \u001b[0msound\u001b[0m \u001b[1;33m=\u001b[0m \u001b[0mAudioSegment\u001b[0m\u001b[1;33m.\u001b[0m\u001b[0mfrom_mp3\u001b[0m\u001b[1;33m(\u001b[0m\u001b[0mdat\u001b[0m\u001b[1;33m)\u001b[0m\u001b[1;33m\u001b[0m\u001b[1;33m\u001b[0m\u001b[0m\n\u001b[0m\u001b[0;32m      2\u001b[0m \u001b[0msound\u001b[0m\u001b[1;33m.\u001b[0m\u001b[0mexport\u001b[0m\u001b[1;33m(\u001b[0m\u001b[0mdat\u001b[0m\u001b[1;33m,\u001b[0m \u001b[0mformat\u001b[0m\u001b[1;33m=\u001b[0m\u001b[1;34m'wav'\u001b[0m\u001b[1;33m)\u001b[0m\u001b[1;33m\u001b[0m\u001b[1;33m\u001b[0m\u001b[0m\n",
      "\u001b[1;32m~\\.conda\\envs\\DS\\lib\\site-packages\\pydub\\audio_segment.py\u001b[0m in \u001b[0;36mfrom_mp3\u001b[1;34m(cls, file, parameters)\u001b[0m\n\u001b[0;32m    794\u001b[0m     \u001b[1;33m@\u001b[0m\u001b[0mclassmethod\u001b[0m\u001b[1;33m\u001b[0m\u001b[1;33m\u001b[0m\u001b[0m\n\u001b[0;32m    795\u001b[0m     \u001b[1;32mdef\u001b[0m \u001b[0mfrom_mp3\u001b[0m\u001b[1;33m(\u001b[0m\u001b[0mcls\u001b[0m\u001b[1;33m,\u001b[0m \u001b[0mfile\u001b[0m\u001b[1;33m,\u001b[0m \u001b[0mparameters\u001b[0m\u001b[1;33m=\u001b[0m\u001b[1;32mNone\u001b[0m\u001b[1;33m)\u001b[0m\u001b[1;33m:\u001b[0m\u001b[1;33m\u001b[0m\u001b[1;33m\u001b[0m\u001b[0m\n\u001b[1;32m--> 796\u001b[1;33m         \u001b[1;32mreturn\u001b[0m \u001b[0mcls\u001b[0m\u001b[1;33m.\u001b[0m\u001b[0mfrom_file\u001b[0m\u001b[1;33m(\u001b[0m\u001b[0mfile\u001b[0m\u001b[1;33m,\u001b[0m \u001b[1;34m'mp3'\u001b[0m\u001b[1;33m,\u001b[0m \u001b[0mparameters\u001b[0m\u001b[1;33m=\u001b[0m\u001b[0mparameters\u001b[0m\u001b[1;33m)\u001b[0m\u001b[1;33m\u001b[0m\u001b[1;33m\u001b[0m\u001b[0m\n\u001b[0m\u001b[0;32m    797\u001b[0m \u001b[1;33m\u001b[0m\u001b[0m\n\u001b[0;32m    798\u001b[0m     \u001b[1;33m@\u001b[0m\u001b[0mclassmethod\u001b[0m\u001b[1;33m\u001b[0m\u001b[1;33m\u001b[0m\u001b[0m\n",
      "\u001b[1;32m~\\.conda\\envs\\DS\\lib\\site-packages\\pydub\\audio_segment.py\u001b[0m in \u001b[0;36mfrom_file\u001b[1;34m(cls, file, format, codec, parameters, start_second, duration, **kwargs)\u001b[0m\n\u001b[0;32m    726\u001b[0m             \u001b[0minfo\u001b[0m \u001b[1;33m=\u001b[0m \u001b[1;32mNone\u001b[0m\u001b[1;33m\u001b[0m\u001b[1;33m\u001b[0m\u001b[0m\n\u001b[0;32m    727\u001b[0m         \u001b[1;32melse\u001b[0m\u001b[1;33m:\u001b[0m\u001b[1;33m\u001b[0m\u001b[1;33m\u001b[0m\u001b[0m\n\u001b[1;32m--> 728\u001b[1;33m             \u001b[0minfo\u001b[0m \u001b[1;33m=\u001b[0m \u001b[0mmediainfo_json\u001b[0m\u001b[1;33m(\u001b[0m\u001b[0morig_file\u001b[0m\u001b[1;33m,\u001b[0m \u001b[0mread_ahead_limit\u001b[0m\u001b[1;33m=\u001b[0m\u001b[0mread_ahead_limit\u001b[0m\u001b[1;33m)\u001b[0m\u001b[1;33m\u001b[0m\u001b[1;33m\u001b[0m\u001b[0m\n\u001b[0m\u001b[0;32m    729\u001b[0m         \u001b[1;32mif\u001b[0m \u001b[0minfo\u001b[0m\u001b[1;33m:\u001b[0m\u001b[1;33m\u001b[0m\u001b[1;33m\u001b[0m\u001b[0m\n\u001b[0;32m    730\u001b[0m             audio_streams = [x for x in info['streams']\n",
      "\u001b[1;32m~\\.conda\\envs\\DS\\lib\\site-packages\\pydub\\utils.py\u001b[0m in \u001b[0;36mmediainfo_json\u001b[1;34m(filepath, read_ahead_limit)\u001b[0m\n\u001b[0;32m    272\u001b[0m \u001b[1;33m\u001b[0m\u001b[0m\n\u001b[0;32m    273\u001b[0m     \u001b[0mcommand\u001b[0m \u001b[1;33m=\u001b[0m \u001b[1;33m[\u001b[0m\u001b[0mprober\u001b[0m\u001b[1;33m,\u001b[0m \u001b[1;34m'-of'\u001b[0m\u001b[1;33m,\u001b[0m \u001b[1;34m'json'\u001b[0m\u001b[1;33m]\u001b[0m \u001b[1;33m+\u001b[0m \u001b[0mcommand_args\u001b[0m\u001b[1;33m\u001b[0m\u001b[1;33m\u001b[0m\u001b[0m\n\u001b[1;32m--> 274\u001b[1;33m     \u001b[0mres\u001b[0m \u001b[1;33m=\u001b[0m \u001b[0mPopen\u001b[0m\u001b[1;33m(\u001b[0m\u001b[0mcommand\u001b[0m\u001b[1;33m,\u001b[0m \u001b[0mstdin\u001b[0m\u001b[1;33m=\u001b[0m\u001b[0mstdin_parameter\u001b[0m\u001b[1;33m,\u001b[0m \u001b[0mstdout\u001b[0m\u001b[1;33m=\u001b[0m\u001b[0mPIPE\u001b[0m\u001b[1;33m,\u001b[0m \u001b[0mstderr\u001b[0m\u001b[1;33m=\u001b[0m\u001b[0mPIPE\u001b[0m\u001b[1;33m)\u001b[0m\u001b[1;33m\u001b[0m\u001b[1;33m\u001b[0m\u001b[0m\n\u001b[0m\u001b[0;32m    275\u001b[0m     \u001b[0moutput\u001b[0m\u001b[1;33m,\u001b[0m \u001b[0mstderr\u001b[0m \u001b[1;33m=\u001b[0m \u001b[0mres\u001b[0m\u001b[1;33m.\u001b[0m\u001b[0mcommunicate\u001b[0m\u001b[1;33m(\u001b[0m\u001b[0minput\u001b[0m\u001b[1;33m=\u001b[0m\u001b[0mstdin_data\u001b[0m\u001b[1;33m)\u001b[0m\u001b[1;33m\u001b[0m\u001b[1;33m\u001b[0m\u001b[0m\n\u001b[0;32m    276\u001b[0m     \u001b[0moutput\u001b[0m \u001b[1;33m=\u001b[0m \u001b[0moutput\u001b[0m\u001b[1;33m.\u001b[0m\u001b[0mdecode\u001b[0m\u001b[1;33m(\u001b[0m\u001b[1;34m\"utf-8\"\u001b[0m\u001b[1;33m,\u001b[0m \u001b[1;34m'ignore'\u001b[0m\u001b[1;33m)\u001b[0m\u001b[1;33m\u001b[0m\u001b[1;33m\u001b[0m\u001b[0m\n",
      "\u001b[1;32m~\\.conda\\envs\\DS\\lib\\subprocess.py\u001b[0m in \u001b[0;36m__init__\u001b[1;34m(self, args, bufsize, executable, stdin, stdout, stderr, preexec_fn, close_fds, shell, cwd, env, universal_newlines, startupinfo, creationflags, restore_signals, start_new_session, pass_fds, encoding, errors, text)\u001b[0m\n\u001b[0;32m    798\u001b[0m                                 \u001b[0mc2pread\u001b[0m\u001b[1;33m,\u001b[0m \u001b[0mc2pwrite\u001b[0m\u001b[1;33m,\u001b[0m\u001b[1;33m\u001b[0m\u001b[1;33m\u001b[0m\u001b[0m\n\u001b[0;32m    799\u001b[0m                                 \u001b[0merrread\u001b[0m\u001b[1;33m,\u001b[0m \u001b[0merrwrite\u001b[0m\u001b[1;33m,\u001b[0m\u001b[1;33m\u001b[0m\u001b[1;33m\u001b[0m\u001b[0m\n\u001b[1;32m--> 800\u001b[1;33m                                 restore_signals, start_new_session)\n\u001b[0m\u001b[0;32m    801\u001b[0m         \u001b[1;32mexcept\u001b[0m\u001b[1;33m:\u001b[0m\u001b[1;33m\u001b[0m\u001b[1;33m\u001b[0m\u001b[0m\n\u001b[0;32m    802\u001b[0m             \u001b[1;31m# Cleanup if the child failed starting.\u001b[0m\u001b[1;33m\u001b[0m\u001b[1;33m\u001b[0m\u001b[1;33m\u001b[0m\u001b[0m\n",
      "\u001b[1;32m~\\.conda\\envs\\DS\\lib\\subprocess.py\u001b[0m in \u001b[0;36m_execute_child\u001b[1;34m(self, args, executable, preexec_fn, close_fds, pass_fds, cwd, env, startupinfo, creationflags, shell, p2cread, p2cwrite, c2pread, c2pwrite, errread, errwrite, unused_restore_signals, unused_start_new_session)\u001b[0m\n\u001b[0;32m   1205\u001b[0m                                          \u001b[0menv\u001b[0m\u001b[1;33m,\u001b[0m\u001b[1;33m\u001b[0m\u001b[1;33m\u001b[0m\u001b[0m\n\u001b[0;32m   1206\u001b[0m                                          \u001b[0mos\u001b[0m\u001b[1;33m.\u001b[0m\u001b[0mfspath\u001b[0m\u001b[1;33m(\u001b[0m\u001b[0mcwd\u001b[0m\u001b[1;33m)\u001b[0m \u001b[1;32mif\u001b[0m \u001b[0mcwd\u001b[0m \u001b[1;32mis\u001b[0m \u001b[1;32mnot\u001b[0m \u001b[1;32mNone\u001b[0m \u001b[1;32melse\u001b[0m \u001b[1;32mNone\u001b[0m\u001b[1;33m,\u001b[0m\u001b[1;33m\u001b[0m\u001b[1;33m\u001b[0m\u001b[0m\n\u001b[1;32m-> 1207\u001b[1;33m                                          startupinfo)\n\u001b[0m\u001b[0;32m   1208\u001b[0m             \u001b[1;32mfinally\u001b[0m\u001b[1;33m:\u001b[0m\u001b[1;33m\u001b[0m\u001b[1;33m\u001b[0m\u001b[0m\n\u001b[0;32m   1209\u001b[0m                 \u001b[1;31m# Child is launched. Close the parent's copy of those pipe\u001b[0m\u001b[1;33m\u001b[0m\u001b[1;33m\u001b[0m\u001b[1;33m\u001b[0m\u001b[0m\n",
      "\u001b[1;31mFileNotFoundError\u001b[0m: [WinError 2] 지정된 파일을 찾을 수 없습니다"
     ]
    }
   ],
   "source": [
    "sound = AudioSegment.from_mp3(dat)\n",
    "sound.export(dat, format='wav')"
   ]
  },
  {
   "cell_type": "code",
   "execution_count": null,
   "id": "66dd8a0c",
   "metadata": {},
   "outputs": [],
   "source": [
    "path_sf = ''"
   ]
  },
  {
   "cell_type": "code",
   "execution_count": 17,
   "id": "a4692cb1",
   "metadata": {},
   "outputs": [
    {
     "data": {
      "text/plain": [
       "True"
      ]
     },
     "execution_count": 17,
     "metadata": {},
     "output_type": "execute_result"
    }
   ],
   "source": [
    "import os\n",
    "os.path.isfile('C:\\Programming\\origin.mp3')"
   ]
  },
  {
   "cell_type": "code",
   "execution_count": null,
   "id": "4bc40053",
   "metadata": {},
   "outputs": [],
   "source": []
  },
  {
   "cell_type": "code",
   "execution_count": 3,
   "id": "acedc16f",
   "metadata": {},
   "outputs": [
    {
     "ename": "RuntimeError",
     "evalue": "Error opening 'C:\\\\Programming\\\\origin.wav': System error.",
     "output_type": "error",
     "traceback": [
      "\u001b[1;31m---------------------------------------------------------------------------\u001b[0m",
      "\u001b[1;31mRuntimeError\u001b[0m                              Traceback (most recent call last)",
      "\u001b[1;32m~\\AppData\\Local\\Temp\\ipykernel_21492\\1215821372.py\u001b[0m in \u001b[0;36m<module>\u001b[1;34m\u001b[0m\n\u001b[1;32m----> 1\u001b[1;33m \u001b[0msamplerate\u001b[0m \u001b[1;33m=\u001b[0m \u001b[0msf\u001b[0m\u001b[1;33m.\u001b[0m\u001b[0mread\u001b[0m\u001b[1;33m(\u001b[0m\u001b[1;34m'C:\\Programming\\origin.wav'\u001b[0m\u001b[1;33m)\u001b[0m\u001b[1;33m\u001b[0m\u001b[1;33m\u001b[0m\u001b[0m\n\u001b[0m\u001b[0;32m      2\u001b[0m \u001b[0msf\u001b[0m\u001b[1;33m.\u001b[0m\u001b[0mwrite\u001b[0m\u001b[1;33m(\u001b[0m\u001b[1;34m'new_1.wav'\u001b[0m\u001b[1;33m,\u001b[0m \u001b[0msamplerate\u001b[0m\u001b[1;33m)\u001b[0m\u001b[1;33m\u001b[0m\u001b[1;33m\u001b[0m\u001b[0m\n",
      "\u001b[1;32m~\\.conda\\envs\\DS\\lib\\site-packages\\soundfile.py\u001b[0m in \u001b[0;36mread\u001b[1;34m(file, frames, start, stop, dtype, always_2d, fill_value, out, samplerate, channels, format, subtype, endian, closefd)\u001b[0m\n\u001b[0;32m    255\u001b[0m     \"\"\"\n\u001b[0;32m    256\u001b[0m     with SoundFile(file, 'r', samplerate, channels,\n\u001b[1;32m--> 257\u001b[1;33m                    subtype, endian, format, closefd) as f:\n\u001b[0m\u001b[0;32m    258\u001b[0m         \u001b[0mframes\u001b[0m \u001b[1;33m=\u001b[0m \u001b[0mf\u001b[0m\u001b[1;33m.\u001b[0m\u001b[0m_prepare_read\u001b[0m\u001b[1;33m(\u001b[0m\u001b[0mstart\u001b[0m\u001b[1;33m,\u001b[0m \u001b[0mstop\u001b[0m\u001b[1;33m,\u001b[0m \u001b[0mframes\u001b[0m\u001b[1;33m)\u001b[0m\u001b[1;33m\u001b[0m\u001b[1;33m\u001b[0m\u001b[0m\n\u001b[0;32m    259\u001b[0m         \u001b[0mdata\u001b[0m \u001b[1;33m=\u001b[0m \u001b[0mf\u001b[0m\u001b[1;33m.\u001b[0m\u001b[0mread\u001b[0m\u001b[1;33m(\u001b[0m\u001b[0mframes\u001b[0m\u001b[1;33m,\u001b[0m \u001b[0mdtype\u001b[0m\u001b[1;33m,\u001b[0m \u001b[0malways_2d\u001b[0m\u001b[1;33m,\u001b[0m \u001b[0mfill_value\u001b[0m\u001b[1;33m,\u001b[0m \u001b[0mout\u001b[0m\u001b[1;33m)\u001b[0m\u001b[1;33m\u001b[0m\u001b[1;33m\u001b[0m\u001b[0m\n",
      "\u001b[1;32m~\\.conda\\envs\\DS\\lib\\site-packages\\soundfile.py\u001b[0m in \u001b[0;36m__init__\u001b[1;34m(self, file, mode, samplerate, channels, subtype, endian, format, closefd)\u001b[0m\n\u001b[0;32m    627\u001b[0m         self._info = _create_info_struct(file, mode, samplerate, channels,\n\u001b[0;32m    628\u001b[0m                                          format, subtype, endian)\n\u001b[1;32m--> 629\u001b[1;33m         \u001b[0mself\u001b[0m\u001b[1;33m.\u001b[0m\u001b[0m_file\u001b[0m \u001b[1;33m=\u001b[0m \u001b[0mself\u001b[0m\u001b[1;33m.\u001b[0m\u001b[0m_open\u001b[0m\u001b[1;33m(\u001b[0m\u001b[0mfile\u001b[0m\u001b[1;33m,\u001b[0m \u001b[0mmode_int\u001b[0m\u001b[1;33m,\u001b[0m \u001b[0mclosefd\u001b[0m\u001b[1;33m)\u001b[0m\u001b[1;33m\u001b[0m\u001b[1;33m\u001b[0m\u001b[0m\n\u001b[0m\u001b[0;32m    630\u001b[0m         \u001b[1;32mif\u001b[0m \u001b[0mset\u001b[0m\u001b[1;33m(\u001b[0m\u001b[0mmode\u001b[0m\u001b[1;33m)\u001b[0m\u001b[1;33m.\u001b[0m\u001b[0missuperset\u001b[0m\u001b[1;33m(\u001b[0m\u001b[1;34m'r+'\u001b[0m\u001b[1;33m)\u001b[0m \u001b[1;32mand\u001b[0m \u001b[0mself\u001b[0m\u001b[1;33m.\u001b[0m\u001b[0mseekable\u001b[0m\u001b[1;33m(\u001b[0m\u001b[1;33m)\u001b[0m\u001b[1;33m:\u001b[0m\u001b[1;33m\u001b[0m\u001b[1;33m\u001b[0m\u001b[0m\n\u001b[0;32m    631\u001b[0m             \u001b[1;31m# Move write position to 0 (like in Python file objects)\u001b[0m\u001b[1;33m\u001b[0m\u001b[1;33m\u001b[0m\u001b[1;33m\u001b[0m\u001b[0m\n",
      "\u001b[1;32m~\\.conda\\envs\\DS\\lib\\site-packages\\soundfile.py\u001b[0m in \u001b[0;36m_open\u001b[1;34m(self, file, mode_int, closefd)\u001b[0m\n\u001b[0;32m   1182\u001b[0m             \u001b[1;32mraise\u001b[0m \u001b[0mTypeError\u001b[0m\u001b[1;33m(\u001b[0m\u001b[1;34m\"Invalid file: {0!r}\"\u001b[0m\u001b[1;33m.\u001b[0m\u001b[0mformat\u001b[0m\u001b[1;33m(\u001b[0m\u001b[0mself\u001b[0m\u001b[1;33m.\u001b[0m\u001b[0mname\u001b[0m\u001b[1;33m)\u001b[0m\u001b[1;33m)\u001b[0m\u001b[1;33m\u001b[0m\u001b[1;33m\u001b[0m\u001b[0m\n\u001b[0;32m   1183\u001b[0m         _error_check(_snd.sf_error(file_ptr),\n\u001b[1;32m-> 1184\u001b[1;33m                      \"Error opening {0!r}: \".format(self.name))\n\u001b[0m\u001b[0;32m   1185\u001b[0m         \u001b[1;32mif\u001b[0m \u001b[0mmode_int\u001b[0m \u001b[1;33m==\u001b[0m \u001b[0m_snd\u001b[0m\u001b[1;33m.\u001b[0m\u001b[0mSFM_WRITE\u001b[0m\u001b[1;33m:\u001b[0m\u001b[1;33m\u001b[0m\u001b[1;33m\u001b[0m\u001b[0m\n\u001b[0;32m   1186\u001b[0m             \u001b[1;31m# Due to a bug in libsndfile version <= 1.0.25, frames != 0\u001b[0m\u001b[1;33m\u001b[0m\u001b[1;33m\u001b[0m\u001b[1;33m\u001b[0m\u001b[0m\n",
      "\u001b[1;32m~\\.conda\\envs\\DS\\lib\\site-packages\\soundfile.py\u001b[0m in \u001b[0;36m_error_check\u001b[1;34m(err, prefix)\u001b[0m\n\u001b[0;32m   1355\u001b[0m     \u001b[1;32mif\u001b[0m \u001b[0merr\u001b[0m \u001b[1;33m!=\u001b[0m \u001b[1;36m0\u001b[0m\u001b[1;33m:\u001b[0m\u001b[1;33m\u001b[0m\u001b[1;33m\u001b[0m\u001b[0m\n\u001b[0;32m   1356\u001b[0m         \u001b[0merr_str\u001b[0m \u001b[1;33m=\u001b[0m \u001b[0m_snd\u001b[0m\u001b[1;33m.\u001b[0m\u001b[0msf_error_number\u001b[0m\u001b[1;33m(\u001b[0m\u001b[0merr\u001b[0m\u001b[1;33m)\u001b[0m\u001b[1;33m\u001b[0m\u001b[1;33m\u001b[0m\u001b[0m\n\u001b[1;32m-> 1357\u001b[1;33m         \u001b[1;32mraise\u001b[0m \u001b[0mRuntimeError\u001b[0m\u001b[1;33m(\u001b[0m\u001b[0mprefix\u001b[0m \u001b[1;33m+\u001b[0m \u001b[0m_ffi\u001b[0m\u001b[1;33m.\u001b[0m\u001b[0mstring\u001b[0m\u001b[1;33m(\u001b[0m\u001b[0merr_str\u001b[0m\u001b[1;33m)\u001b[0m\u001b[1;33m.\u001b[0m\u001b[0mdecode\u001b[0m\u001b[1;33m(\u001b[0m\u001b[1;34m'utf-8'\u001b[0m\u001b[1;33m,\u001b[0m \u001b[1;34m'replace'\u001b[0m\u001b[1;33m)\u001b[0m\u001b[1;33m)\u001b[0m\u001b[1;33m\u001b[0m\u001b[1;33m\u001b[0m\u001b[0m\n\u001b[0m\u001b[0;32m   1358\u001b[0m \u001b[1;33m\u001b[0m\u001b[0m\n\u001b[0;32m   1359\u001b[0m \u001b[1;33m\u001b[0m\u001b[0m\n",
      "\u001b[1;31mRuntimeError\u001b[0m: Error opening 'C:\\\\Programming\\\\origin.wav': System error."
     ]
    }
   ],
   "source": [
    "samplerate = sf.read('C:\\Programming\\origin.wav')\n",
    "sf.write('new_1.wav', samplerate)"
   ]
  },
  {
   "cell_type": "code",
   "execution_count": null,
   "id": "d0f98ccf",
   "metadata": {},
   "outputs": [],
   "source": []
  }
 ],
 "metadata": {
  "kernelspec": {
   "display_name": "Python 3 (ipykernel)",
   "language": "python",
   "name": "python3"
  },
  "language_info": {
   "codemirror_mode": {
    "name": "ipython",
    "version": 3
   },
   "file_extension": ".py",
   "mimetype": "text/x-python",
   "name": "python",
   "nbconvert_exporter": "python",
   "pygments_lexer": "ipython3",
   "version": "3.7.13"
  }
 },
 "nbformat": 4,
 "nbformat_minor": 5
}
