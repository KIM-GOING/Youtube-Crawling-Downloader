{
 "cells": [
  {
   "cell_type": "code",
   "execution_count": 1,
   "id": "418387c4",
   "metadata": {},
   "outputs": [
    {
     "name": "stderr",
     "output_type": "stream",
     "text": [
      "C:\\Users\\habin81111\\.conda\\envs\\DS\\lib\\site-packages\\pydub\\utils.py:170: RuntimeWarning: Couldn't find ffmpeg or avconv - defaulting to ffmpeg, but may not work\n",
      "  warn(\"Couldn't find ffmpeg or avconv - defaulting to ffmpeg, but may not work\", RuntimeWarning)\n"
     ]
    }
   ],
   "source": [
    "import pandas as pd\n",
    "from selenium import webdriver\n",
    "from selenium.webdriver.common.keys import Keys\n",
    "from selenium.webdriver import ActionChains\n",
    "from pytube import YouTube\n",
    "from pydub import AudioSegment \n",
    "import os\n",
    "import time\n",
    "import warnings\n",
    "\n",
    "warnings.filterwarnings(action='ignore')"
   ]
  },
  {
   "cell_type": "code",
   "execution_count": 2,
   "id": "8393955f",
   "metadata": {},
   "outputs": [],
   "source": [
    "#유튜브 채널 크롬창 켜기\n",
    "youtube_channel_url = 'https://www.youtube.com/watch?v=H2HH7yOyw9M'\n",
    "wd = webdriver.Chrome('chromedriver.exe')\n",
    "action = ActionChains(wd)\n",
    "wd.get(youtube_channel_url)\n",
    "time.sleep(1)"
   ]
  },
  {
   "cell_type": "code",
   "execution_count": 3,
   "id": "9dfc0fea",
   "metadata": {},
   "outputs": [],
   "source": [
    "#크롬 전체화면\n",
    "wd.maximize_window()\n",
    "time.sleep(1)"
   ]
  },
  {
   "cell_type": "code",
   "execution_count": 34,
   "id": "9a6d5866",
   "metadata": {},
   "outputs": [],
   "source": [
    "video_url_list = {}"
   ]
  },
  {
   "cell_type": "code",
   "execution_count": 35,
   "id": "db678031",
   "metadata": {},
   "outputs": [],
   "source": [
    "video_list = []"
   ]
  },
  {
   "cell_type": "code",
   "execution_count": 6,
   "id": "521292d1",
   "metadata": {},
   "outputs": [],
   "source": [
    "for j in wd.find_elements_by_css_selector('div#secondary-inner>ytd-playlist-panel-renderer#playlist>div#container>div#items>ytd-playlist-panel-video-renderer#playlist-items'):\n",
    "    action.move_to_element(j).perform()\n",
    "    time.sleep(1)\n",
    "    j.click()\n",
    "    time.sleep(2)\n",
    "    \n",
    "    video_url = wd.current_url\n",
    "    video_list.append(video_url)"
   ]
  },
  {
   "cell_type": "code",
   "execution_count": 7,
   "id": "5b39da66",
   "metadata": {},
   "outputs": [],
   "source": [
    "video_url_list['럭'] = video_list"
   ]
  },
  {
   "cell_type": "code",
   "execution_count": null,
   "id": "bd352a1b",
   "metadata": {},
   "outputs": [],
   "source": []
  },
  {
   "cell_type": "code",
   "execution_count": 36,
   "id": "fb0abc72",
   "metadata": {},
   "outputs": [],
   "source": [
    "# 하나의 영상만 다운받을 때\n",
    "video_list.append('https://www.youtube.com/watch?v=31tZil_eJ6w')\n",
    "video_url_list['천로역정'] = video_list"
   ]
  },
  {
   "cell_type": "code",
   "execution_count": null,
   "id": "ae42e753",
   "metadata": {},
   "outputs": [],
   "source": []
  },
  {
   "cell_type": "code",
   "execution_count": 8,
   "id": "21d63ee5",
   "metadata": {},
   "outputs": [],
   "source": [
    "def createFolder(directory):\n",
    "    try:\n",
    "        if not os.path.exists(directory):\n",
    "            os.makedirs(directory)\n",
    "    except OSError:\n",
    "        print('Error: Creating directory. '+ directory)"
   ]
  },
  {
   "cell_type": "code",
   "execution_count": 37,
   "id": "a8c52bf1",
   "metadata": {},
   "outputs": [],
   "source": [
    "file_path = 'G:\\\\AI_Design_LAB\\\\Dataset\\\\천로역정'"
   ]
  },
  {
   "cell_type": "code",
   "execution_count": null,
   "id": "676191c5",
   "metadata": {},
   "outputs": [],
   "source": [
    "createFolder(file_path + '\\\\' + p_list[0])"
   ]
  },
  {
   "cell_type": "code",
   "execution_count": 38,
   "id": "e23d34ef",
   "metadata": {},
   "outputs": [],
   "source": [
    "urls = video_url_list['천로역정']"
   ]
  },
  {
   "cell_type": "code",
   "execution_count": null,
   "id": "e331d438",
   "metadata": {},
   "outputs": [],
   "source": []
  },
  {
   "cell_type": "code",
   "execution_count": 39,
   "id": "5858a049",
   "metadata": {},
   "outputs": [],
   "source": [
    "f_path = file_path"
   ]
  },
  {
   "cell_type": "code",
   "execution_count": 40,
   "id": "f68e3279",
   "metadata": {},
   "outputs": [],
   "source": [
    "for url in urls:\n",
    "    yt = YouTube(url)\n",
    "    stream = yt.streams.get_highest_resolution()\n",
    "    stream.download(f_path)"
   ]
  },
  {
   "cell_type": "code",
   "execution_count": 41,
   "id": "c1a88dbb",
   "metadata": {},
   "outputs": [],
   "source": [
    "file_names = os.listdir(f_path)"
   ]
  },
  {
   "cell_type": "code",
   "execution_count": 42,
   "id": "65c8e23a",
   "metadata": {},
   "outputs": [],
   "source": [
    "num = 1\n",
    "for i in file_names:\n",
    "    src = os.path.join(f_path, i)\n",
    "    dst = '발레리나' + '_' + str(num) + '.mp4'\n",
    "    dst = os.path.join(f_path, dst)\n",
    "    os.rename(src, dst)\n",
    "    num = num + 1"
   ]
  },
  {
   "cell_type": "code",
   "execution_count": 33,
   "id": "595aed0e",
   "metadata": {},
   "outputs": [],
   "source": [
    "file_names = os.listdir(f_path)"
   ]
  },
  {
   "cell_type": "code",
   "execution_count": null,
   "id": "52fba4df",
   "metadata": {},
   "outputs": [],
   "source": []
  },
  {
   "cell_type": "markdown",
   "id": "f699db1d",
   "metadata": {},
   "source": [
    "<h2>mp4 다운로드 후 폴더 저장</h2>"
   ]
  },
  {
   "cell_type": "code",
   "execution_count": 1,
   "id": "925ada2a",
   "metadata": {},
   "outputs": [
    {
     "name": "stderr",
     "output_type": "stream",
     "text": [
      "C:\\Users\\habin81111\\.conda\\envs\\DS\\lib\\site-packages\\pydub\\utils.py:170: RuntimeWarning: Couldn't find ffmpeg or avconv - defaulting to ffmpeg, but may not work\n",
      "  warn(\"Couldn't find ffmpeg or avconv - defaulting to ffmpeg, but may not work\", RuntimeWarning)\n"
     ]
    }
   ],
   "source": [
    "import pandas as pd\n",
    "from selenium import webdriver\n",
    "from selenium.webdriver.common.keys import Keys\n",
    "from selenium.webdriver import ActionChains\n",
    "from pytube import YouTube\n",
    "from pydub import AudioSegment \n",
    "import os\n",
    "import time\n",
    "import warnings\n",
    "\n",
    "warnings.filterwarnings(action='ignore')"
   ]
  },
  {
   "cell_type": "code",
   "execution_count": 2,
   "id": "8dbdf3ac",
   "metadata": {},
   "outputs": [],
   "source": [
    "def createFolder(directory):\n",
    "    try:\n",
    "        if not os.path.exists(directory):\n",
    "            os.makedirs(directory)\n",
    "    except OSError:\n",
    "        print('Error: Creating directory. '+ directory)"
   ]
  },
  {
   "cell_type": "code",
   "execution_count": 3,
   "id": "964fbc86",
   "metadata": {},
   "outputs": [
    {
     "name": "stdout",
     "output_type": "stream",
     "text": [
      "에이스쿼드 크롬 실행\n",
      "에이스쿼드 url 저장\n",
      "에이스쿼드 크롬 종료\n",
      "에이스쿼드 폴더 생성\n",
      "에이스쿼드 mp4 다운\n",
      "에이스쿼드 [다운로드 순서]\n",
      "['[SONOKONG 손오공] ★동물구조대 에이스쿼드 26화  어린이 안전교육 애니메이션★  ㅣ누리생활ㅣ 어린이 안전만화ㅣ생활습관ㅣ용감한 소방차 레이 친구ㅣ.mp4', '[SONOKONG 손오공] 용감한 소방차 레이 퀴즈 이벤트!.mp4', '[SONOKONG 손오공] ★동물구조대 에이스쿼드 25화  어린이 안전교육 애니메이션★  ㅣ누리생활ㅣ 어린이 안전만화ㅣ생활습관ㅣ용감한 소방차 레이 친구ㅣ.mp4', '[SONOKONG 손오공] ★동물구조대 에이스쿼드 24화  어린이 안전교육 애니메이션★  ㅣ누리생활ㅣ 어린이 안전만화ㅣ생활습관ㅣ용감한 소방차 레이 친구ㅣ.mp4', '[SONOKONG 손오공] ★동물구조대 에이스쿼드 23화  어린이 안전교육 애니메이션★  ㅣ누리생활ㅣ 어린이 안전만화ㅣ생활습관ㅣ용감한 소방차 레이 친구ㅣ.mp4', '[SONOKONG 손오공] ★동물구조대 에이스쿼드 21화  어린이 안전교육 애니메이션★  ㅣ누리생활ㅣ 어린이 안전만화ㅣ생활습관ㅣ용감한 소방차 레이 친구ㅣ.mp4', '[SONOKONG 손오공] ★어린이 안전교육★ 애니메이션으로 재미있게 배우는 에이스쿼드 안전교육 110화 모음ㅣ누리생활ㅣ 어린이 안전만화ㅣ생활습관ㅣ용감한 소방차 레이 친구ㅣ.mp4', '[SONOKONG 손오공] 동물구조대 에이스쿼드(A스쿼드) 인기투표 EVENT.mp4', '[SONOKONG 손오공] ★동물구조대 에이스쿼드 1화  어린이 안전교육 애니메이션★  ㅣ누리생활ㅣ 어린이 안전만화ㅣ생활습관ㅣ용감한 소방차 레이 친구ㅣ.mp4', '[SONOKONG 손오공] ★동물구조대 에이스쿼드 2화  어린이 안전교육 애니메이션★  ㅣ누리생활ㅣ 어린이 안전만화ㅣ생활습관ㅣ용감한 소방차 레이 친구ㅣ.mp4', '[SONOKONG 손오공] ★동물구조대 에이스쿼드 안전교육 1화위험한 곳은 언제나 조심! ★  ㅣ누리생활ㅣ 어린이 안전만화ㅣ생활습관ㅣ용감한 소방차 레이ㅣ.mp4', '[SONOKONG 손오공] ★동물구조대 에이스쿼드 안전교육 2화위험한 곳은 언제나 조심! ★  ㅣ누리생활ㅣ 어린이 안전만화ㅣ생활습관ㅣ용감한 소방차 레이ㅣ.mp4', '[SONOKONG 손오공] ★동물구조대 에이스쿼드 안전교육 3화공사현장은 위험해! ★  ㅣ누리생활ㅣ 어린이 안전만화ㅣ생활습관ㅣ용감한 소방차 레이ㅣ.mp4', '[SONOKONG 손오공] ★동물구조대 에이스쿼드 안전교육 4화실외에선 주위를 잘 살펴요 ★  ㅣ누리생활ㅣ 어린이 안전만화ㅣ생활습관ㅣ용감한 소방차 레이ㅣ.mp4', '[SONOKONG 손오공] ★동물구조대 에이스쿼드 안전교육 5화무선장난감은 어른과 함께! ★  ㅣ누리생활ㅣ 어린이 안전만화ㅣ생활습관ㅣ용감한 소방차 레이ㅣ.mp4', '[SONOKONG 손오공] 용감한 소방차 레이 장난감 드디어 출시!ㅣ어린이 안전교육ㅣ에이스쿼드 친구ㅣ.mp4', '[SONOKONG 손오공] ★동물구조대 에이스쿼드 안전교육 6화높은곳은 위험해요! ★  ㅣ누리생활ㅣ 어린이 안전만화ㅣ생활습관ㅣ용감한 소방차 레이 친구ㅣ.mp4', '[SONOKONG 손오공] ★동물구조대 에이스쿼드 안전교육 7화캠핑장에선 이렇게 하세요! ★  ㅣ누리생활ㅣ 어린이 안전만화ㅣ생활습관ㅣ용감한 소방차 레이ㅣ.mp4', '[SONOKONG 손오공] ★동물구조대 에이스쿼드 안전교육 8화불조심!게조심! ★  ㅣ누리생활ㅣ 어린이 안전만화ㅣ생활습관ㅣ용감한 소방차 레이 친구ㅣ.mp4', '[SONOKONG 손오공] ★동물구조대 에이스쿼드 안전교육 9화흔들흔들 케이블카 주의사항★  ㅣ누리생활ㅣ 어린이 안전만화ㅣ생활습관ㅣ용감한 소방차 레이 친구ㅣ.mp4', '[SONOKONG 손오공] ★동물구조대 에이스쿼드 안전교육 10화빨간불은 멈춰야해요! ★  ㅣ누리생활ㅣ 어린이 안전만화ㅣ생활습관ㅣ용감한 소방차 레이 친구ㅣ.mp4', '[SONOKONG 손오공] ★동물구조대 에이스쿼드 3화  어린이 안전교육 애니메이션★  ㅣ누리생활ㅣ 어린이 안전만화ㅣ생활습관ㅣ용감한 소방차 레이 친구ㅣ.mp4', '[SONOKONG 손오공] ★동물구조대 에이스쿼드 4화  어린이 안전교육 애니메이션★  ㅣ누리생활ㅣ 어린이 안전만화ㅣ생활습관ㅣ용감한 소방차 레이 친구ㅣ.mp4', '[SONOKONG 손오공] ★동물구조대 에이스쿼드 5화  어린이 안전교육 애니메이션★  ㅣ누리생활ㅣ 어린이 안전만화ㅣ생활습관ㅣ용감한 소방차 레이 친구ㅣ.mp4', '[SONOKONG 손오공] ★동물구조대 에이스쿼드 6화  어린이 안전교육 애니메이션★  ㅣ누리생활ㅣ 어린이 안전만화ㅣ생활습관ㅣ용감한 소방차 레이 친구ㅣ.mp4', '[SONOKONG 손오공] ★동물구조대 에이스쿼드 7화  어린이 안전교육 애니메이션★  ㅣ누리생활ㅣ 어린이 안전만화ㅣ생활습관ㅣ용감한 소방차 레이 친구ㅣ.mp4', '[SONOKONG 손오공] ★동물구조대 에이스쿼드 8화  어린이 안전교육 애니메이션★  ㅣ누리생활ㅣ 어린이 안전만화ㅣ생활습관ㅣ용감한 소방차 레이 친구ㅣ.mp4', '[SONOKONG 손오공] ★동물구조대 에이스쿼드 9화  어린이 안전교육 애니메이션★  ㅣ누리생활ㅣ 어린이 안전만화ㅣ생활습관ㅣ용감한 소방차 레이 친구ㅣ.mp4', '[SONOKONG 손오공] ★동물구조대 에이스쿼드 10화  어린이 안전교육 애니메이션★  ㅣ누리생활ㅣ 어린이 안전만화ㅣ생활습관ㅣ용감한 소방차 레이 친구ㅣ.mp4', '[SONOKONG 손오공] 동물구조대 에이스쿼드 (A-SQUAD).mp4', '[SONOKONG 손오공] ★동물구조대 에이스쿼드 11화  어린이 안전교육 애니메이션★  ㅣ누리생활ㅣ 어린이 안전만화ㅣ생활습관ㅣ용감한 소방차 레이 친구ㅣ.mp4', '[SONOKONG 손오공] ★동물구조대 에이스쿼드 12화  어린이 안전교육 애니메이션★  ㅣ누리생활ㅣ 어린이 안전만화ㅣ생활습관ㅣ용감한 소방차 레이 친구ㅣ.mp4', '[SONOKONG 손오공] ★동물구조대 에이스쿼드 13화  어린이 안전교육 애니메이션★  ㅣ누리생활ㅣ 어린이 안전만화ㅣ생활습관ㅣ용감한 소방차 레이 친구ㅣ.mp4', '[SONOKONG 손오공] ★동물구조대 에이스쿼드 14화  어린이 안전교육 애니메이션★  ㅣ누리생활ㅣ 어린이 안전만화ㅣ생활습관ㅣ용감한 소방차 레이 친구ㅣ.mp4', '[SONOKONG 손오공] ★동물구조대 에이스쿼드 15화  어린이 안전교육 애니메이션★  ㅣ누리생활ㅣ 어린이 안전만화ㅣ생활습관ㅣ용감한 소방차 레이 친구ㅣ.mp4', '[SONOKONG 손오공] ★동물구조대 에이스쿼드 16화  어린이 안전교육 애니메이션★  ㅣ누리생활ㅣ 어린이 안전만화ㅣ생활습관ㅣ용감한 소방차 레이 친구ㅣ.mp4', '[SONOKONG 손오공] ★동물구조대 에이스쿼드 17화  어린이 안전교육 애니메이션★  ㅣ누리생활ㅣ 어린이 안전만화ㅣ생활습관ㅣ용감한 소방차 레이 친구ㅣ.mp4', '[SONOKONG 손오공] ★동물구조대 에이스쿼드 18화  어린이 안전교육 애니메이션★  ㅣ누리생활ㅣ 어린이 안전만화ㅣ생활습관ㅣ용감한 소방차 레이 친구ㅣ.mp4', '[SONOKONG 손오공] ★동물구조대 에이스쿼드 19화  어린이 안전교육 애니메이션★  ㅣ누리생활ㅣ 어린이 안전만화ㅣ생활습관ㅣ용감한 소방차 레이 친구ㅣ.mp4', '[SONOKONG 손오공] ★동물구조대 에이스쿼드 20화  어린이 안전교육 애니메이션★  ㅣ누리생활ㅣ 어린이 안전만화ㅣ생활습관ㅣ용감한 소방차 레이 친구ㅣ.mp4']\n",
      "에이스쿼드 mp4 이름 정렬\n"
     ]
    }
   ],
   "source": [
    "youtube_urls = {'에이스쿼드':'https://www.youtube.com/watch?v=XxOX8TpswJo&list=PLsFEi94ql7ws1SNBkaPBYJZfGOq7eoA1F'}\n",
    "\n",
    "\n",
    "for ani in youtube_urls:\n",
    "\n",
    "    #유튜브 채널 크롬창 켜기\n",
    "    print(ani, '크롬 실행')\n",
    "    youtube_channel_url = youtube_urls[ani]\n",
    "    wd = webdriver.Chrome('chromedriver.exe')\n",
    "    action = ActionChains(wd)\n",
    "    wd.get(youtube_channel_url)\n",
    "    time.sleep(1)\n",
    "    \n",
    "    #크롬 전체화면\n",
    "    wd.maximize_window()\n",
    "    time.sleep(1)\n",
    "    \n",
    "    video_url_list = {}\n",
    "    video_list = []\n",
    "    \n",
    "    #영상 url 저장\n",
    "    print(ani, 'url 저장')\n",
    "    for j in wd.find_elements_by_css_selector('div#secondary-inner>ytd-playlist-panel-renderer#playlist>div#container>div#items>ytd-playlist-panel-video-renderer#playlist-items'):\n",
    "        action.move_to_element(j).perform()\n",
    "        time.sleep(1)\n",
    "        j.click()\n",
    "        time.sleep(2)\n",
    "        video_url = wd.current_url\n",
    "        video_list.append(video_url)\n",
    "    \n",
    "    video_url_list[ani] = video_list\n",
    "    \n",
    "    #크롬 종료\n",
    "    print(ani, '크롬 종료')\n",
    "    wd.close()\n",
    "    \n",
    "    #폴더 생성\n",
    "    print(ani, '폴더 생성')\n",
    "    file_path = 'G:\\\\AI_Design_LAB\\\\Dataset\\\\'+ani\n",
    "    createFolder(file_path)\n",
    "    \n",
    "    #mp4 다운로드\n",
    "    print(ani, 'mp4 다운')\n",
    "    urls = video_url_list[ani]\n",
    "    f_path = file_path\n",
    "    \n",
    "    for url in urls:\n",
    "        yt = YouTube(url)\n",
    "        stream = yt.streams.get_highest_resolution()\n",
    "        stream.download(f_path)\n",
    "    \n",
    "    #다운로드 순서 출력\n",
    "    print(ani, '[다운로드 순서]')\n",
    "    file_names = os.listdir(f_path)\n",
    "    print(file_names)\n",
    "    \n",
    "    #mp4 이름 정렬\n",
    "    print(ani, 'mp4 이름 정렬')\n",
    "    file_names = os.listdir(f_path)\n",
    "    num = 1\n",
    "    for i in file_names:\n",
    "        src = os.path.join(f_path, i)\n",
    "        dst = ani + '_' + str(num) + '.mp4'\n",
    "        dst = os.path.join(f_path, dst)\n",
    "        os.rename(src, dst)\n",
    "        num = num + 1"
   ]
  },
  {
   "cell_type": "code",
   "execution_count": null,
   "id": "c1524dd9",
   "metadata": {},
   "outputs": [],
   "source": []
  },
  {
   "cell_type": "code",
   "execution_count": null,
   "id": "413f154b",
   "metadata": {},
   "outputs": [],
   "source": []
  }
 ],
 "metadata": {
  "kernelspec": {
   "display_name": "Python 3 (ipykernel)",
   "language": "python",
   "name": "python3"
  },
  "language_info": {
   "codemirror_mode": {
    "name": "ipython",
    "version": 3
   },
   "file_extension": ".py",
   "mimetype": "text/x-python",
   "name": "python",
   "nbconvert_exporter": "python",
   "pygments_lexer": "ipython3",
   "version": "3.7.13"
  }
 },
 "nbformat": 4,
 "nbformat_minor": 5
}
